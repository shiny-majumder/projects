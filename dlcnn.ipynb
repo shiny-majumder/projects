{
  "nbformat": 4,
  "nbformat_minor": 0,
  "metadata": {
    "accelerator": "GPU",
    "colab": {
      "name": "dlcnn.ipynb",
      "provenance": []
    },
    "kernelspec": {
      "display_name": "Python 3",
      "name": "python3"
    }
  },
  "cells": [
    {
      "cell_type": "code",
      "metadata": {
        "id": "5-EYiBbrMMmz",
        "colab": {
          "base_uri": "https://localhost:8080/",
          "height": 34
        },
        "outputId": "25ff8a42-1dd4-4880-a1b7-56482622e5d9"
      },
      "source": [
        "from google.colab import drive\n",
        "drive.mount('/content/drive')\n"
      ],
      "execution_count": null,
      "outputs": [
        {
          "output_type": "stream",
          "text": [
            "Drive already mounted at /content/drive; to attempt to forcibly remount, call drive.mount(\"/content/drive\", force_remount=True).\n"
          ],
          "name": "stdout"
        }
      ]
    },
    {
      "cell_type": "code",
      "metadata": {
        "id": "P_RQOs3RMXhM"
      },
      "source": [
        "TRAIN_PATH = \"/content/drive/My Drive/SET-chest/TRAIN\"\n",
        "VAL_PATH = \"/content/drive/My Drive/SET-chest/TEST\"\n"
      ],
      "execution_count": null,
      "outputs": []
    },
    {
      "cell_type": "code",
      "metadata": {
        "id": "XPaWC3X1MiHf"
      },
      "source": [
        "import numpy as np\n",
        "import random\n",
        "import matplotlib.pyplot as plt\n",
        "import keras\n",
        "from keras.layers import *\n",
        "from keras.models import * \n",
        "from keras.preprocessing import image\n",
        "from keras.optimizers import SGD"
      ],
      "execution_count": null,
      "outputs": []
    },
    {
      "cell_type": "code",
      "metadata": {
        "id": "7Rm2Ew4GMi6u"
      },
      "source": [
        "#my dilated\n",
        "modeldil = Sequential()\n",
        "modeldil.add(Conv2D(32,kernel_size=(3),dilation_rate = (5),activation='relu',input_shape=(224,224,3)))\n",
        "modeldil.add(Conv2D(64,(3,3),activation='relu'))\n",
        "modeldil.add(MaxPooling2D(pool_size=(2,2)))\n",
        "modeldil.add(Dropout(0.25))\n",
        "\n",
        "modeldil.add(Conv2D(64,(3),dilation_rate = (3),activation='relu'))\n",
        "modeldil.add(MaxPooling2D(pool_size=(2,2)))\n",
        "modeldil.add(Dropout(0.25))\n",
        "\n",
        "modeldil.add(Conv2D(128,(3),dilation_rate = (1),activation='relu'))\n",
        "modeldil.add(MaxPooling2D(pool_size=(2,2)))\n",
        "modeldil.add(Dropout(0.25))\n",
        "\n",
        "modeldil.add(Flatten())\n",
        "modeldil.add(Dense(64,activation='relu'))\n",
        "modeldil.add(Dropout(0.5))\n",
        "modeldil.add(Dense(1,activation='sigmoid'))\n",
        "\n",
        "modeldil.compile(loss=keras.losses.binary_crossentropy,optimizer='adam',metrics=['accuracy'])"
      ],
      "execution_count": null,
      "outputs": []
    },
    {
      "cell_type": "code",
      "metadata": {
        "id": "z8_DscCZEfbi"
      },
      "source": [
        "#my dilated with d = 7,5,3\n",
        "modeldil = Sequential()\n",
        "modeldil.add(Conv2D(32,kernel_size=(3),dilation_rate = (7),activation='relu',input_shape=(224,224,3)))\n",
        "#modeldil.add(Conv2D(64,(3,3),activation='relu'))\n",
        "modeldil.add(MaxPooling2D(pool_size=(2,2)))\n",
        "modeldil.add(Dropout(0.25))\n",
        "\n",
        "modeldil.add(Conv2D(64,(3),dilation_rate = (5),activation='relu'))\n",
        "modeldil.add(MaxPooling2D(pool_size=(2,2)))\n",
        "modeldil.add(Dropout(0.25))\n",
        "\n",
        "modeldil.add(Conv2D(128,(3),dilation_rate = (3),activation='relu'))\n",
        "modeldil.add(MaxPooling2D(pool_size=(2,2)))\n",
        "modeldil.add(Dropout(0.25))\n",
        "\n",
        "modeldil.add(Flatten())\n",
        "modeldil.add(Dense(64,activation='relu'))\n",
        "modeldil.add(Dropout(0.5))\n",
        "modeldil.add(Dense(1,activation='sigmoid'))\n",
        "\n",
        "modeldil.compile(loss=keras.losses.binary_crossentropy,optimizer='adam',metrics=['accuracy'])"
      ],
      "execution_count": null,
      "outputs": []
    },
    {
      "cell_type": "code",
      "metadata": {
        "id": "Pgn9eW5fTINi"
      },
      "source": [
        "#point\n",
        "try with test accuracy\n",
        "dilation with train and test\n",
        "dilation rate 1,3,5,7\n",
        "dataset given by Sir\n",
        "try with ANN, CNN (partial) \n",
        "Activation map"
      ],
      "execution_count": null,
      "outputs": []
    },
    {
      "cell_type": "code",
      "metadata": {
        "id": "ScQ4iJp_tmqo"
      },
      "source": [
        "# CNN Model\n",
        "\n",
        "model = Sequential()\n",
        "model.add(Conv2D(32,kernel_size=(3),activation='relu',input_shape=(224,224,3)))\n",
        "model.add(Conv2D(64,(3,3),activation='relu'))\n",
        "model.add(MaxPooling2D(pool_size=(2,2)))\n",
        "model.add(Dropout(0.25))\n",
        "\n",
        "model.add(Conv2D(64,(3,3),activation='relu'))\n",
        "model.add(MaxPooling2D(pool_size=(2,2)))\n",
        "model.add(Dropout(0.25))\n",
        "\n",
        "model.add(Conv2D(128,(3,3),activation='relu'))\n",
        "model.add(MaxPooling2D(pool_size=(2,2)))\n",
        "model.add(Dropout(0.25))\n",
        "\n",
        "model.add(Flatten())\n",
        "model.add(Dense(64,activation='relu'))\n",
        "model.add(Dropout(0.5))\n",
        "model.add(Dense(1,activation='sigmoid'))\n",
        "\n",
        "model.compile(loss=keras.losses.binary_crossentropy,optimizer='adam',metrics=['accuracy'])"
      ],
      "execution_count": null,
      "outputs": []
    },
    {
      "cell_type": "code",
      "metadata": {
        "id": "XY5m2sLkOY8_",
        "colab": {
          "base_uri": "https://localhost:8080/",
          "height": 34
        },
        "outputId": "4f7d2d6e-12d3-4dcd-a043-701d2ceb0141"
      },
      "source": [
        "#ANN Model\n",
        "modelnn = Sequential()\n",
        "modelnn.add(Flatten())\n",
        "modelnn.add(Dense(1024, input_shape=(224,224,3), activation=\"sigmoid\"))   # first hidden layer has 1024 nodes\n",
        "modelnn.add(Dense(512, activation=\"sigmoid\"))                         # second hidden layer has 512 nodes\n",
        "modelnn.add(Dense(2, activation=\"softmax\"))            # output layer with number of possible class labels\n",
        "INIT_LR = 0.001\n",
        "#EPOCHS = 60\n",
        " \n",
        "# compile the model using SGD as our optimizer and categorical cross-entropy loss\n",
        "# (you'll want to use binary_crossentropy for 2-class classification)\n",
        "print(\"[INFO] training network...\")\n",
        "opt = SGD(lr=INIT_LR)   # Stochastic Gradient Descent (SGD) optimizer\n",
        "modelnn.compile(loss=\"binary_crossentropy\", optimizer=opt, metrics=[\"accuracy\"])\n",
        "#model.compile(loss=keras.losses.binary_crossentropy,optimizer='adam',metrics=['accuracy'])"
      ],
      "execution_count": null,
      "outputs": [
        {
          "output_type": "stream",
          "text": [
            "[INFO] training network...\n"
          ],
          "name": "stdout"
        }
      ]
    },
    {
      "cell_type": "code",
      "metadata": {
        "id": "HzYp-5TdN8Bw",
        "colab": {
          "base_uri": "https://localhost:8080/",
          "height": 547
        },
        "outputId": "495f46a2-e2a9-4bee-9868-b572045aa8ab"
      },
      "source": [
        "histann = modelnn.fit(train_generator, validation_data = validation_generator, epochs=15, batch_size=32)"
      ],
      "execution_count": null,
      "outputs": [
        {
          "output_type": "stream",
          "text": [
            "Epoch 1/15\n",
            "38/38 [==============================] - 1065s 28s/step - loss: 0.6990 - accuracy: 0.4567 - val_loss: 0.6940 - val_accuracy: 0.4955\n",
            "Epoch 2/15\n",
            "38/38 [==============================] - 48s 1s/step - loss: 0.6939 - accuracy: 0.4634 - val_loss: 0.6939 - val_accuracy: 0.5135\n",
            "Epoch 3/15\n",
            "38/38 [==============================] - 48s 1s/step - loss: 0.6938 - accuracy: 0.4692 - val_loss: 0.6938 - val_accuracy: 0.5405\n",
            "Epoch 4/15\n",
            "38/38 [==============================] - 47s 1s/step - loss: 0.6937 - accuracy: 0.4967 - val_loss: 0.6938 - val_accuracy: 0.5495\n",
            "Epoch 5/15\n",
            "38/38 [==============================] - 48s 1s/step - loss: 0.6937 - accuracy: 0.4975 - val_loss: 0.6937 - val_accuracy: 0.5405\n",
            "Epoch 6/15\n",
            "38/38 [==============================] - 48s 1s/step - loss: 0.6936 - accuracy: 0.5116 - val_loss: 0.6937 - val_accuracy: 0.5495\n",
            "Epoch 7/15\n",
            "38/38 [==============================] - 47s 1s/step - loss: 0.6936 - accuracy: 0.5133 - val_loss: 0.6937 - val_accuracy: 0.5676\n",
            "Epoch 8/15\n",
            "38/38 [==============================] - 48s 1s/step - loss: 0.6936 - accuracy: 0.5366 - val_loss: 0.6936 - val_accuracy: 0.5856\n",
            "Epoch 9/15\n",
            "38/38 [==============================] - 48s 1s/step - loss: 0.6935 - accuracy: 0.5366 - val_loss: 0.6936 - val_accuracy: 0.5946\n",
            "Epoch 10/15\n",
            "38/38 [==============================] - 48s 1s/step - loss: 0.6935 - accuracy: 0.5433 - val_loss: 0.6936 - val_accuracy: 0.6036\n",
            "Epoch 11/15\n",
            "38/38 [==============================] - 47s 1s/step - loss: 0.6935 - accuracy: 0.5449 - val_loss: 0.6935 - val_accuracy: 0.6036\n",
            "Epoch 12/15\n",
            "38/38 [==============================] - 47s 1s/step - loss: 0.6935 - accuracy: 0.5391 - val_loss: 0.6935 - val_accuracy: 0.5766\n",
            "Epoch 13/15\n",
            "38/38 [==============================] - 47s 1s/step - loss: 0.6934 - accuracy: 0.5374 - val_loss: 0.6935 - val_accuracy: 0.6036\n",
            "Epoch 14/15\n",
            "38/38 [==============================] - 48s 1s/step - loss: 0.6934 - accuracy: 0.5507 - val_loss: 0.6935 - val_accuracy: 0.6036\n",
            "Epoch 15/15\n",
            "38/38 [==============================] - 48s 1s/step - loss: 0.6934 - accuracy: 0.5499 - val_loss: 0.6934 - val_accuracy: 0.6036\n"
          ],
          "name": "stdout"
        }
      ]
    },
    {
      "cell_type": "code",
      "metadata": {
        "id": "bByhwD_IbrNZ",
        "colab": {
          "base_uri": "https://localhost:8080/",
          "height": 295
        },
        "outputId": "4f6b3d94-f117-4cb0-8a9d-553b206c1890"
      },
      "source": [
        "#updated\n",
        "import matplotlib.pyplot as plt\n",
        "%matplotlib inline\n",
        "\n",
        "# listing data in graph\n",
        "#print(hist.history.keys())\n",
        "\n",
        "# summarize graph for accuracy\n",
        "#plt.plot(hist.history['accuracy'])\n",
        "plt.plot(histann.history['accuracy'])\n",
        "plt.plot(histann.history['val_accuracy'])\n",
        "#plt.plot(histcnn.history['val_accuracy'])\n",
        "#plt.plot(histdil.history['accuracy'])\n",
        "#plt.plot(histdil.history['val_accuracy'])\n",
        "plt.title('ANN graph')\n",
        "plt.ylabel('accuracy')\n",
        "plt.xlabel('epoch')\n",
        "plt.legend(['train', 'test'], loc='lower right')\n",
        "plt.show()"
      ],
      "execution_count": null,
      "outputs": [
        {
          "output_type": "display_data",
          "data": {
            "image/png": "[encoded data removed]",
            "text/plain": [
              "<Figure size 432x288 with 1 Axes>"
            ]
          },
          "metadata": {
            "tags": [],
            "needs_background": "light"
          }
        }
      ]
    },
    {
      "cell_type": "code",
      "metadata": {
        "id": "3pgEHAMBNXbO",
        "colab": {
          "base_uri": "https://localhost:8080/",
          "height": 629
        },
        "outputId": "9cf1ef64-79b3-48e8-9053-e28b5c12cd5f"
      },
      "source": [
        "model.summary()"
      ],
      "execution_count": null,
      "outputs": [
        {
          "output_type": "stream",
          "text": [
            "Model: \"sequential\"\n",
            "_________________________________________________________________\n",
            "Layer (type)                 Output Shape              Param #   \n",
            "=================================================================\n",
            "conv2d (Conv2D)              (None, 222, 222, 32)      896       \n",
            "_________________________________________________________________\n",
            "conv2d_1 (Conv2D)            (None, 220, 220, 64)      18496     \n",
            "_________________________________________________________________\n",
            "max_pooling2d (MaxPooling2D) (None, 110, 110, 64)      0         \n",
            "_________________________________________________________________\n",
            "dropout (Dropout)            (None, 110, 110, 64)      0         \n",
            "_________________________________________________________________\n",
            "conv2d_2 (Conv2D)            (None, 108, 108, 64)      36928     \n",
            "_________________________________________________________________\n",
            "max_pooling2d_1 (MaxPooling2 (None, 54, 54, 64)        0         \n",
            "_________________________________________________________________\n",
            "dropout_1 (Dropout)          (None, 54, 54, 64)        0         \n",
            "_________________________________________________________________\n",
            "conv2d_3 (Conv2D)            (None, 52, 52, 128)       73856     \n",
            "_________________________________________________________________\n",
            "max_pooling2d_2 (MaxPooling2 (None, 26, 26, 128)       0         \n",
            "_________________________________________________________________\n",
            "dropout_2 (Dropout)          (None, 26, 26, 128)       0         \n",
            "_________________________________________________________________\n",
            "flatten (Flatten)            (None, 86528)             0         \n",
            "_________________________________________________________________\n",
            "dense (Dense)                (None, 64)                5537856   \n",
            "_________________________________________________________________\n",
            "dropout_3 (Dropout)          (None, 64)                0         \n",
            "_________________________________________________________________\n",
            "dense_1 (Dense)              (None, 1)                 65        \n",
            "=================================================================\n",
            "Total params: 5,668,097\n",
            "Trainable params: 5,668,097\n",
            "Non-trainable params: 0\n",
            "_________________________________________________________________\n"
          ],
          "name": "stdout"
        }
      ]
    },
    {
      "cell_type": "code",
      "metadata": {
        "id": "R8vlIPBXQU__",
        "colab": {
          "base_uri": "https://localhost:8080/",
          "height": 629
        },
        "outputId": "5b27c3e1-2674-4257-b87d-0ce48383557f"
      },
      "source": [
        "modeldil.summary()"
      ],
      "execution_count": null,
      "outputs": [
        {
          "output_type": "stream",
          "text": [
            "Model: \"sequential\"\n",
            "_________________________________________________________________\n",
            "Layer (type)                 Output Shape              Param #   \n",
            "=================================================================\n",
            "conv2d (Conv2D)              (None, 208, 208, 32)      2432      \n",
            "_________________________________________________________________\n",
            "conv2d_1 (Conv2D)            (None, 206, 206, 64)      18496     \n",
            "_________________________________________________________________\n",
            "max_pooling2d (MaxPooling2D) (None, 103, 103, 64)      0         \n",
            "_________________________________________________________________\n",
            "dropout (Dropout)            (None, 103, 103, 64)      0         \n",
            "_________________________________________________________________\n",
            "conv2d_2 (Conv2D)            (None, 95, 95, 64)        102464    \n",
            "_________________________________________________________________\n",
            "max_pooling2d_1 (MaxPooling2 (None, 47, 47, 64)        0         \n",
            "_________________________________________________________________\n",
            "dropout_1 (Dropout)          (None, 47, 47, 64)        0         \n",
            "_________________________________________________________________\n",
            "conv2d_3 (Conv2D)            (None, 43, 43, 128)       204928    \n",
            "_________________________________________________________________\n",
            "max_pooling2d_2 (MaxPooling2 (None, 21, 21, 128)       0         \n",
            "_________________________________________________________________\n",
            "dropout_2 (Dropout)          (None, 21, 21, 128)       0         \n",
            "_________________________________________________________________\n",
            "flatten (Flatten)            (None, 56448)             0         \n",
            "_________________________________________________________________\n",
            "dense (Dense)                (None, 64)                3612736   \n",
            "_________________________________________________________________\n",
            "dropout_3 (Dropout)          (None, 64)                0         \n",
            "_________________________________________________________________\n",
            "dense_1 (Dense)              (None, 1)                 65        \n",
            "=================================================================\n",
            "Total params: 3,941,121\n",
            "Trainable params: 3,941,121\n",
            "Non-trainable params: 0\n",
            "_________________________________________________________________\n"
          ],
          "name": "stdout"
        }
      ]
    },
    {
      "cell_type": "code",
      "metadata": {
        "id": "9e3bqErXQaa_"
      },
      "source": [
        "# Train from scratch , Data Augmentation\n",
        "train_datagen = image.ImageDataGenerator(\n",
        "    rescale = 1./255,\n",
        "    shear_range = 0.2,\n",
        "    zoom_range = 0.2,\n",
        "    horizontal_flip = True,\n",
        ")\n",
        "\n",
        "test_dataset = image.ImageDataGenerator(rescale=1./255)"
      ],
      "execution_count": null,
      "outputs": []
    },
    {
      "cell_type": "code",
      "metadata": {
        "id": "LqAJ1e-OQghp",
        "colab": {
          "base_uri": "https://localhost:8080/",
          "height": 34
        },
        "outputId": "02d12862-1c7c-437e-bbc6-3d3d39680a20"
      },
      "source": [
        "train_generator = train_datagen.flow_from_directory(\n",
        "    '/content/drive/My Drive/SET-chest/TRAIN',\n",
        "    target_size = (224,224),\n",
        "    batch_size = 32,\n",
        "    class_mode = 'binary')\n"
      ],
      "execution_count": null,
      "outputs": [
        {
          "output_type": "stream",
          "text": [
            "Found 1194 images belonging to 2 classes.\n"
          ],
          "name": "stdout"
        }
      ]
    },
    {
      "cell_type": "code",
      "metadata": {
        "id": "0SPZ6KjV-Qjl",
        "colab": {
          "base_uri": "https://localhost:8080/",
          "height": 282
        },
        "outputId": "a4df1eb0-35c2-4d81-9b1d-07dfd65cbeac"
      },
      "source": [
        "random.shuffle(train_generator)"
      ],
      "execution_count": null,
      "outputs": [
        {
          "output_type": "error",
          "ename": "TypeError",
          "evalue": "ignored",
          "traceback": [
            "\u001b[0;31m---------------------------------------------------------------------------\u001b[0m",
            "\u001b[0;31mTypeError\u001b[0m                                 Traceback (most recent call last)",
            "\u001b[0;32m<ipython-input-6-7b209073d7b7>\u001b[0m in \u001b[0;36m<module>\u001b[0;34m()\u001b[0m\n\u001b[0;32m----> 1\u001b[0;31m \u001b[0mrandom\u001b[0m\u001b[0;34m.\u001b[0m\u001b[0mshuffle\u001b[0m\u001b[0;34m(\u001b[0m\u001b[0mtrain_generator\u001b[0m\u001b[0;34m)\u001b[0m\u001b[0;34m\u001b[0m\u001b[0;34m\u001b[0m\u001b[0m\n\u001b[0m",
            "\u001b[0;32m/usr/lib/python3.6/random.py\u001b[0m in \u001b[0;36mshuffle\u001b[0;34m(self, x, random)\u001b[0m\n\u001b[1;32m    275\u001b[0m                 \u001b[0;31m# pick an element in x[:i+1] with which to exchange x[i]\u001b[0m\u001b[0;34m\u001b[0m\u001b[0;34m\u001b[0m\u001b[0;34m\u001b[0m\u001b[0m\n\u001b[1;32m    276\u001b[0m                 \u001b[0mj\u001b[0m \u001b[0;34m=\u001b[0m \u001b[0mrandbelow\u001b[0m\u001b[0;34m(\u001b[0m\u001b[0mi\u001b[0m\u001b[0;34m+\u001b[0m\u001b[0;36m1\u001b[0m\u001b[0;34m)\u001b[0m\u001b[0;34m\u001b[0m\u001b[0;34m\u001b[0m\u001b[0m\n\u001b[0;32m--> 277\u001b[0;31m                 \u001b[0mx\u001b[0m\u001b[0;34m[\u001b[0m\u001b[0mi\u001b[0m\u001b[0;34m]\u001b[0m\u001b[0;34m,\u001b[0m \u001b[0mx\u001b[0m\u001b[0;34m[\u001b[0m\u001b[0mj\u001b[0m\u001b[0;34m]\u001b[0m \u001b[0;34m=\u001b[0m \u001b[0mx\u001b[0m\u001b[0;34m[\u001b[0m\u001b[0mj\u001b[0m\u001b[0;34m]\u001b[0m\u001b[0;34m,\u001b[0m \u001b[0mx\u001b[0m\u001b[0;34m[\u001b[0m\u001b[0mi\u001b[0m\u001b[0;34m]\u001b[0m\u001b[0;34m\u001b[0m\u001b[0;34m\u001b[0m\u001b[0m\n\u001b[0m\u001b[1;32m    278\u001b[0m         \u001b[0;32melse\u001b[0m\u001b[0;34m:\u001b[0m\u001b[0;34m\u001b[0m\u001b[0;34m\u001b[0m\u001b[0m\n\u001b[1;32m    279\u001b[0m             \u001b[0m_int\u001b[0m \u001b[0;34m=\u001b[0m \u001b[0mint\u001b[0m\u001b[0;34m\u001b[0m\u001b[0;34m\u001b[0m\u001b[0m\n",
            "\u001b[0;31mTypeError\u001b[0m: 'DirectoryIterator' object does not support item assignment"
          ]
        }
      ]
    },
    {
      "cell_type": "code",
      "metadata": {
        "id": "lpKmxCQTQiDQ",
        "colab": {
          "base_uri": "https://localhost:8080/",
          "height": 34
        },
        "outputId": "adb53de9-b83f-4011-bf8b-4534078bef28"
      },
      "source": [
        "validation_generator = test_dataset.flow_from_directory(\n",
        "    '/content/drive/My Drive/SET-chest/TEST',\n",
        "    target_size = (224,224),\n",
        "    batch_size = 32,\n",
        "    class_mode = 'binary')"
      ],
      "execution_count": null,
      "outputs": [
        {
          "output_type": "stream",
          "text": [
            "Found 111 images belonging to 2 classes.\n"
          ],
          "name": "stdout"
        }
      ]
    },
    {
      "cell_type": "code",
      "metadata": {
        "id": "dRaUHMy_EcO9",
        "colab": {
          "base_uri": "https://localhost:8080/",
          "height": 34
        },
        "outputId": "c8ae0b5c-a837-477d-e8c3-9a6f6e95a774"
      },
      "source": [
        "test_generator = test_dataset.flow_from_directory(\n",
        "    '/content/drive/My Drive/SET-chest/tst',\n",
        "    target_size = (224,224),\n",
        "    batch_size = 32,\n",
        "    class_mode = 'binary')"
      ],
      "execution_count": null,
      "outputs": [
        {
          "output_type": "stream",
          "text": [
            "Found 8 images belonging to 2 classes.\n"
          ],
          "name": "stdout"
        }
      ]
    },
    {
      "cell_type": "code",
      "metadata": {
        "id": "4-vwtRiF_bGM",
        "colab": {
          "base_uri": "https://localhost:8080/",
          "height": 1000
        },
        "outputId": "1599c2a1-8998-4080-d5b0-6bf09f5a15ed"
      },
      "source": [
        "histdil = modeldil.fit_generator(\n",
        "    train_generator,\n",
        "    steps_per_epoch=10,\n",
        "    epochs = 30,\n",
        "    validation_data = validation_generator,\n",
        "    validation_steps=2\n",
        ")"
      ],
      "execution_count": null,
      "outputs": [
        {
          "output_type": "stream",
          "text": [
            "WARNING:tensorflow:From <ipython-input-9-03a87ca5fcc0>:6: Model.fit_generator (from tensorflow.python.keras.engine.training) is deprecated and will be removed in a future version.\n",
            "Instructions for updating:\n",
            "Please use Model.fit, which supports generators.\n",
            "Epoch 1/30\n",
            "10/10 [==============================] - 185s 18s/step - loss: 1.5663 - accuracy: 0.4844 - val_loss: 0.6907 - val_accuracy: 0.8125\n",
            "Epoch 2/30\n",
            "10/10 [==============================] - 111s 11s/step - loss: 0.6766 - accuracy: 0.5938 - val_loss: 0.6680 - val_accuracy: 0.7188\n",
            "Epoch 3/30\n",
            "10/10 [==============================] - 70s 7s/step - loss: 0.5397 - accuracy: 0.7248 - val_loss: 0.4744 - val_accuracy: 0.7812\n",
            "Epoch 4/30\n",
            "10/10 [==============================] - 61s 6s/step - loss: 0.3684 - accuracy: 0.8389 - val_loss: 0.3623 - val_accuracy: 0.8438\n",
            "Epoch 5/30\n",
            "10/10 [==============================] - 51s 5s/step - loss: 0.3741 - accuracy: 0.8656 - val_loss: 0.3077 - val_accuracy: 0.9375\n",
            "Epoch 6/30\n",
            "10/10 [==============================] - 35s 3s/step - loss: 0.2735 - accuracy: 0.9156 - val_loss: 0.2535 - val_accuracy: 0.9688\n",
            "Epoch 7/30\n",
            "10/10 [==============================] - 26s 3s/step - loss: 0.2215 - accuracy: 0.9295 - val_loss: 0.1424 - val_accuracy: 0.9375\n",
            "Epoch 8/30\n",
            "10/10 [==============================] - 22s 2s/step - loss: 0.2109 - accuracy: 0.9262 - val_loss: 0.1815 - val_accuracy: 0.9688\n",
            "Epoch 9/30\n",
            "10/10 [==============================] - 21s 2s/step - loss: 0.2171 - accuracy: 0.9156 - val_loss: 0.1413 - val_accuracy: 0.9531\n",
            "Epoch 10/30\n",
            "10/10 [==============================] - 21s 2s/step - loss: 0.1393 - accuracy: 0.9438 - val_loss: 0.1620 - val_accuracy: 0.9375\n",
            "Epoch 11/30\n",
            "10/10 [==============================] - 17s 2s/step - loss: 0.1659 - accuracy: 0.9469 - val_loss: 0.0991 - val_accuracy: 0.9688\n",
            "Epoch 12/30\n",
            "10/10 [==============================] - 16s 2s/step - loss: 0.2465 - accuracy: 0.9281 - val_loss: 0.1436 - val_accuracy: 0.9688\n",
            "Epoch 13/30\n",
            "10/10 [==============================] - 15s 2s/step - loss: 0.2238 - accuracy: 0.9156 - val_loss: 0.1108 - val_accuracy: 0.9688\n",
            "Epoch 14/30\n",
            "10/10 [==============================] - 17s 2s/step - loss: 0.2379 - accuracy: 0.9187 - val_loss: 0.1076 - val_accuracy: 1.0000\n",
            "Epoch 15/30\n",
            "10/10 [==============================] - 14s 1s/step - loss: 0.2592 - accuracy: 0.9262 - val_loss: 0.2415 - val_accuracy: 0.9531\n",
            "Epoch 16/30\n",
            "10/10 [==============================] - 14s 1s/step - loss: 0.2100 - accuracy: 0.9362 - val_loss: 0.1536 - val_accuracy: 0.9375\n",
            "Epoch 17/30\n",
            "10/10 [==============================] - 14s 1s/step - loss: 0.1578 - accuracy: 0.9344 - val_loss: 0.0790 - val_accuracy: 0.9844\n",
            "Epoch 18/30\n",
            "10/10 [==============================] - 16s 2s/step - loss: 0.2083 - accuracy: 0.9344 - val_loss: 0.0989 - val_accuracy: 0.9844\n",
            "Epoch 19/30\n",
            "10/10 [==============================] - 14s 1s/step - loss: 0.1846 - accuracy: 0.9312 - val_loss: 0.1410 - val_accuracy: 0.9688\n",
            "Epoch 20/30\n",
            "10/10 [==============================] - 14s 1s/step - loss: 0.1467 - accuracy: 0.9531 - val_loss: 0.1072 - val_accuracy: 0.9688\n",
            "Epoch 21/30\n",
            "10/10 [==============================] - 14s 1s/step - loss: 0.1763 - accuracy: 0.9406 - val_loss: 0.0911 - val_accuracy: 0.9688\n",
            "Epoch 22/30\n",
            "10/10 [==============================] - 13s 1s/step - loss: 0.2273 - accuracy: 0.9094 - val_loss: 0.1344 - val_accuracy: 0.9531\n",
            "Epoch 23/30\n",
            "10/10 [==============================] - 12s 1s/step - loss: 0.1784 - accuracy: 0.9564 - val_loss: 0.1382 - val_accuracy: 0.9375\n",
            "Epoch 24/30\n",
            "10/10 [==============================] - 14s 1s/step - loss: 0.1884 - accuracy: 0.9469 - val_loss: 0.1560 - val_accuracy: 0.9531\n",
            "Epoch 25/30\n",
            "10/10 [==============================] - 13s 1s/step - loss: 0.1836 - accuracy: 0.9295 - val_loss: 0.0620 - val_accuracy: 0.9844\n",
            "Epoch 26/30\n",
            "10/10 [==============================] - 14s 1s/step - loss: 0.1614 - accuracy: 0.9312 - val_loss: 0.1276 - val_accuracy: 0.9375\n",
            "Epoch 27/30\n",
            "10/10 [==============================] - 13s 1s/step - loss: 0.2106 - accuracy: 0.9329 - val_loss: 0.1240 - val_accuracy: 0.9688\n",
            "Epoch 28/30\n",
            "10/10 [==============================] - 13s 1s/step - loss: 0.1433 - accuracy: 0.9564 - val_loss: 0.1077 - val_accuracy: 0.9531\n",
            "Epoch 29/30\n",
            "10/10 [==============================] - 14s 1s/step - loss: 0.1186 - accuracy: 0.9500 - val_loss: 0.1011 - val_accuracy: 0.9844\n",
            "Epoch 30/30\n",
            "10/10 [==============================] - 13s 1s/step - loss: 0.1320 - accuracy: 0.9597 - val_loss: 0.1381 - val_accuracy: 0.9219\n"
          ],
          "name": "stdout"
        }
      ]
    },
    {
      "cell_type": "code",
      "metadata": {
        "id": "Zaedb8vV9me3",
        "colab": {
          "base_uri": "https://localhost:8080/",
          "height": 295
        },
        "outputId": "325b0fc9-7b50-4e88-dea8-b6e0ddba1be1"
      },
      "source": [
        "plt.plot(histdil.history['accuracy'])\n",
        "plt.plot(histdil.history['val_accuracy'])\n",
        "#plt.plot(histcnn.history['val_accuracy'])\n",
        "#plt.plot(histdil.history['accuracy'])\n",
        "#plt.plot(histdil.history['val_accuracy'])\n",
        "plt.title('Dilated Model accuracy')\n",
        "plt.ylabel('accuracy')\n",
        "plt.xlabel('epoch')\n",
        "plt.legend(['train', 'validation'], loc='lower right')\n",
        "plt.show()"
      ],
      "execution_count": null,
      "outputs": [
        {
          "output_type": "display_data",
          "data": {
            "image/png": "[encoded data removed]",
            "text/plain": [
              "<Figure size 432x288 with 1 Axes>"
            ]
          },
          "metadata": {
            "tags": [],
            "needs_background": "light"
          }
        }
      ]
    },
    {
      "cell_type": "code",
      "metadata": {
        "id": "Yj5tr03f9zcz",
        "colab": {
          "base_uri": "https://localhost:8080/",
          "height": 295
        },
        "outputId": "4c602697-a4ce-4ba7-bbe3-8330e877db24"
      },
      "source": [
        "plt.plot(histdil.history['loss'])\n",
        "plt.plot(histdil.history['val_loss'])\n",
        "#plt.plot(histcnn.history['val_accuracy'])\n",
        "#plt.plot(histdil.history['accuracy'])\n",
        "#plt.plot(histdil.history['val_accuracy'])\n",
        "plt.title('Dilated Model loss')\n",
        "plt.ylabel('loss')\n",
        "plt.xlabel('epoch')\n",
        "plt.legend(['train', 'validation'], loc='upper right')\n",
        "plt.show()"
      ],
      "execution_count": null,
      "outputs": [
        {
          "output_type": "display_data",
          "data": {
            "image/png": "[encoded data removed]",
            "text/plain": [
              "<Figure size 432x288 with 1 Axes>"
            ]
          },
          "metadata": {
            "tags": [],
            "needs_background": "light"
          }
        }
      ]
    },
    {
      "cell_type": "code",
      "metadata": {
        "id": "ujsFNu81Qfpm",
        "colab": {
          "base_uri": "https://localhost:8080/",
          "height": 295
        },
        "outputId": "36dea8ca-75f3-4cf6-fe84-90f2974aa9e2"
      },
      "source": [
        "#set graph with d = 7, 5 ,3\n",
        "import matplotlib.pyplot as plt\n",
        "%matplotlib inline\n",
        "\n",
        "# listing data in graph\n",
        "#print(hist.history.keys())\n",
        "\n",
        "# summarize graph for accuracy\n",
        "#plt.plot(hist.history['accuracy'])\n",
        "plt.plot(histdil.history['accuracy'])\n",
        "plt.plot(histdil.history['val_accuracy'])\n",
        "#plt.plot(histcnn.history['val_accuracy'])\n",
        "#plt.plot(histdil.history['accuracy'])\n",
        "#plt.plot(histdil.history['val_accuracy'])\n",
        "plt.title('Dilated Model accuracy')\n",
        "plt.ylabel('accuracy')\n",
        "plt.xlabel('epoch')\n",
        "plt.legend(['train', 'validation'], loc='lower right')\n",
        "plt.show()"
      ],
      "execution_count": null,
      "outputs": [
        {
          "output_type": "display_data",
          "data": {
            "image/png": "[encoded data removed]",
            "text/plain": [
              "<Figure size 432x288 with 1 Axes>"
            ]
          },
          "metadata": {
            "tags": [],
            "needs_background": "light"
          }
        }
      ]
    },
    {
      "cell_type": "code",
      "metadata": {
        "id": "ECtXNuh3LlN7",
        "colab": {
          "base_uri": "https://localhost:8080/",
          "height": 295
        },
        "outputId": "4649bb9e-f2e5-4801-e9d9-e60ff63bc2ef"
      },
      "source": [
        "#set graph\n",
        "import matplotlib.pyplot as plt\n",
        "%matplotlib inline\n",
        "\n",
        "# listing data in graph\n",
        "#print(hist.history.keys())\n",
        "\n",
        "# summarize graph for accuracy\n",
        "#plt.plot(hist.history['accuracy'])\n",
        "plt.plot(histdil.history['accuracy'])\n",
        "plt.plot(histdil.history['val_accuracy'])\n",
        "#plt.plot(histcnn.history['val_accuracy'])\n",
        "#plt.plot(histdil.history['accuracy'])\n",
        "#plt.plot(histdil.history['val_accuracy'])\n",
        "plt.title('Dilated Model accuracy')\n",
        "plt.ylabel('accuracy')\n",
        "plt.xlabel('epoch')\n",
        "plt.legend(['train', 'validation'], loc='lower right')\n",
        "plt.show()"
      ],
      "execution_count": null,
      "outputs": [
        {
          "output_type": "display_data",
          "data": {
            "image/png": "[encoded data removed]",
            "text/plain": [
              "<Figure size 432x288 with 1 Axes>"
            ]
          },
          "metadata": {
            "tags": [],
            "needs_background": "light"
          }
        }
      ]
    },
    {
      "cell_type": "code",
      "metadata": {
        "id": "v3yLDRQVMgwv",
        "colab": {
          "base_uri": "https://localhost:8080/",
          "height": 295
        },
        "outputId": "44d21acf-24d2-4ddc-afa3-778747fc2430"
      },
      "source": [
        "#cnn graph\n",
        "import matplotlib.pyplot as plt\n",
        "%matplotlib inline\n",
        "\n",
        "# listing data in graph\n",
        "#print(hist.history.keys())\n",
        "\n",
        "# summarize graph for accuracy\n",
        "#plt.plot(hist.history['accuracy'])\n",
        "plt.plot(histdil.history['loss'])\n",
        "plt.plot(histdil.history['val_loss'])\n",
        "#plt.plot(histcnn.history['val_accuracy'])\n",
        "#plt.plot(histdil.history['accuracy'])\n",
        "#plt.plot(histdil.history['val_accuracy'])\n",
        "plt.title('Dilated Model loss')\n",
        "plt.ylabel('loss')\n",
        "plt.xlabel('epoch')\n",
        "plt.legend(['training loss', 'validation loss'], loc='upper right')\n",
        "plt.show()"
      ],
      "execution_count": null,
      "outputs": [
        {
          "output_type": "display_data",
          "data": {
            "image/png": "[encoded data removed]",
            "text/plain": [
              "<Figure size 432x288 with 1 Axes>"
            ]
          },
          "metadata": {
            "tags": [],
            "needs_background": "light"
          }
        }
      ]
    },
    {
      "cell_type": "code",
      "metadata": {
        "id": "2OuzpSyC_oPw",
        "colab": {
          "base_uri": "https://localhost:8080/",
          "height": 51
        },
        "outputId": "ad5f10c5-1508-495d-9dcb-78e5e12b8538"
      },
      "source": [
        "print(modeldil.evaluate(test_generator))"
      ],
      "execution_count": null,
      "outputs": [
        {
          "output_type": "stream",
          "text": [
            "1/1 [==============================] - 0s 2ms/step - loss: 0.5784 - accuracy: 0.7500\n",
            "[0.5784481763839722, 0.75]\n"
          ],
          "name": "stdout"
        }
      ]
    },
    {
      "cell_type": "code",
      "metadata": {
        "id": "u83Vw3Ts9Sw4",
        "colab": {
          "base_uri": "https://localhost:8080/",
          "height": 357
        },
        "outputId": "e4c250dd-83b3-4980-f447-0403d3005c4b"
      },
      "source": [
        "from sklearn.model_selection import train_test_split\n",
        "\n",
        "train_data,test_data,train_target,test_target=train_test_split(train_generator,test_size=0.1)"
      ],
      "execution_count": null,
      "outputs": [
        {
          "output_type": "error",
          "ename": "KeyboardInterrupt",
          "evalue": "ignored",
          "traceback": [
            "\u001b[0;31m---------------------------------------------------------------------------\u001b[0m",
            "\u001b[0;31mKeyboardInterrupt\u001b[0m                         Traceback (most recent call last)",
            "\u001b[0;32m<ipython-input-8-a287183ace21>\u001b[0m in \u001b[0;36m<module>\u001b[0;34m()\u001b[0m\n\u001b[1;32m      1\u001b[0m \u001b[0;32mfrom\u001b[0m \u001b[0msklearn\u001b[0m\u001b[0;34m.\u001b[0m\u001b[0mmodel_selection\u001b[0m \u001b[0;32mimport\u001b[0m \u001b[0mtrain_test_split\u001b[0m\u001b[0;34m\u001b[0m\u001b[0;34m\u001b[0m\u001b[0m\n\u001b[1;32m      2\u001b[0m \u001b[0;34m\u001b[0m\u001b[0m\n\u001b[0;32m----> 3\u001b[0;31m \u001b[0mtrain_data\u001b[0m\u001b[0;34m,\u001b[0m\u001b[0mtest_data\u001b[0m\u001b[0;34m,\u001b[0m\u001b[0mtrain_target\u001b[0m\u001b[0;34m,\u001b[0m\u001b[0mtest_target\u001b[0m\u001b[0;34m=\u001b[0m\u001b[0mtrain_test_split\u001b[0m\u001b[0;34m(\u001b[0m\u001b[0mtrain_generator\u001b[0m\u001b[0;34m,\u001b[0m\u001b[0mtest_size\u001b[0m\u001b[0;34m=\u001b[0m\u001b[0;36m0.1\u001b[0m\u001b[0;34m)\u001b[0m\u001b[0;34m\u001b[0m\u001b[0;34m\u001b[0m\u001b[0m\n\u001b[0m",
            "\u001b[0;32m/usr/local/lib/python3.6/dist-packages/sklearn/model_selection/_split.py\u001b[0m in \u001b[0;36mtrain_test_split\u001b[0;34m(*arrays, **options)\u001b[0m\n\u001b[1;32m   2144\u001b[0m \u001b[0;34m\u001b[0m\u001b[0m\n\u001b[1;32m   2145\u001b[0m     return list(chain.from_iterable((_safe_indexing(a, train),\n\u001b[0;32m-> 2146\u001b[0;31m                                      _safe_indexing(a, test)) for a in arrays))\n\u001b[0m\u001b[1;32m   2147\u001b[0m \u001b[0;34m\u001b[0m\u001b[0m\n\u001b[1;32m   2148\u001b[0m \u001b[0;34m\u001b[0m\u001b[0m\n",
            "\u001b[0;32m/usr/local/lib/python3.6/dist-packages/sklearn/model_selection/_split.py\u001b[0m in \u001b[0;36m<genexpr>\u001b[0;34m(.0)\u001b[0m\n\u001b[1;32m   2144\u001b[0m \u001b[0;34m\u001b[0m\u001b[0m\n\u001b[1;32m   2145\u001b[0m     return list(chain.from_iterable((_safe_indexing(a, train),\n\u001b[0;32m-> 2146\u001b[0;31m                                      _safe_indexing(a, test)) for a in arrays))\n\u001b[0m\u001b[1;32m   2147\u001b[0m \u001b[0;34m\u001b[0m\u001b[0m\n\u001b[1;32m   2148\u001b[0m \u001b[0;34m\u001b[0m\u001b[0m\n",
            "\u001b[0;32m/usr/local/lib/python3.6/dist-packages/sklearn/utils/__init__.py\u001b[0m in \u001b[0;36m_safe_indexing\u001b[0;34m(X, indices, axis)\u001b[0m\n\u001b[1;32m    413\u001b[0m         \u001b[0;32mreturn\u001b[0m \u001b[0m_array_indexing\u001b[0m\u001b[0;34m(\u001b[0m\u001b[0mX\u001b[0m\u001b[0;34m,\u001b[0m \u001b[0mindices\u001b[0m\u001b[0;34m,\u001b[0m \u001b[0mindices_dtype\u001b[0m\u001b[0;34m,\u001b[0m \u001b[0maxis\u001b[0m\u001b[0;34m=\u001b[0m\u001b[0maxis\u001b[0m\u001b[0;34m)\u001b[0m\u001b[0;34m\u001b[0m\u001b[0;34m\u001b[0m\u001b[0m\n\u001b[1;32m    414\u001b[0m     \u001b[0;32melse\u001b[0m\u001b[0;34m:\u001b[0m\u001b[0;34m\u001b[0m\u001b[0;34m\u001b[0m\u001b[0m\n\u001b[0;32m--> 415\u001b[0;31m         \u001b[0;32mreturn\u001b[0m \u001b[0m_list_indexing\u001b[0m\u001b[0;34m(\u001b[0m\u001b[0mX\u001b[0m\u001b[0;34m,\u001b[0m \u001b[0mindices\u001b[0m\u001b[0;34m,\u001b[0m \u001b[0mindices_dtype\u001b[0m\u001b[0;34m)\u001b[0m\u001b[0;34m\u001b[0m\u001b[0;34m\u001b[0m\u001b[0m\n\u001b[0m\u001b[1;32m    416\u001b[0m \u001b[0;34m\u001b[0m\u001b[0m\n\u001b[1;32m    417\u001b[0m \u001b[0;34m\u001b[0m\u001b[0m\n",
            "\u001b[0;32m/usr/local/lib/python3.6/dist-packages/sklearn/utils/__init__.py\u001b[0m in \u001b[0;36m_list_indexing\u001b[0;34m(X, key, key_dtype)\u001b[0m\n\u001b[1;32m    223\u001b[0m         \u001b[0;32mreturn\u001b[0m \u001b[0mlist\u001b[0m\u001b[0;34m(\u001b[0m\u001b[0mcompress\u001b[0m\u001b[0;34m(\u001b[0m\u001b[0mX\u001b[0m\u001b[0;34m,\u001b[0m \u001b[0mkey\u001b[0m\u001b[0;34m)\u001b[0m\u001b[0;34m)\u001b[0m\u001b[0;34m\u001b[0m\u001b[0;34m\u001b[0m\u001b[0m\n\u001b[1;32m    224\u001b[0m     \u001b[0;31m# key is a integer array-like of key\u001b[0m\u001b[0;34m\u001b[0m\u001b[0;34m\u001b[0m\u001b[0;34m\u001b[0m\u001b[0m\n\u001b[0;32m--> 225\u001b[0;31m     \u001b[0;32mreturn\u001b[0m \u001b[0;34m[\u001b[0m\u001b[0mX\u001b[0m\u001b[0;34m[\u001b[0m\u001b[0midx\u001b[0m\u001b[0;34m]\u001b[0m \u001b[0;32mfor\u001b[0m \u001b[0midx\u001b[0m \u001b[0;32min\u001b[0m \u001b[0mkey\u001b[0m\u001b[0;34m]\u001b[0m\u001b[0;34m\u001b[0m\u001b[0;34m\u001b[0m\u001b[0m\n\u001b[0m\u001b[1;32m    226\u001b[0m \u001b[0;34m\u001b[0m\u001b[0m\n\u001b[1;32m    227\u001b[0m \u001b[0;34m\u001b[0m\u001b[0m\n",
            "\u001b[0;32m/usr/local/lib/python3.6/dist-packages/sklearn/utils/__init__.py\u001b[0m in \u001b[0;36m<listcomp>\u001b[0;34m(.0)\u001b[0m\n\u001b[1;32m    223\u001b[0m         \u001b[0;32mreturn\u001b[0m \u001b[0mlist\u001b[0m\u001b[0;34m(\u001b[0m\u001b[0mcompress\u001b[0m\u001b[0;34m(\u001b[0m\u001b[0mX\u001b[0m\u001b[0;34m,\u001b[0m \u001b[0mkey\u001b[0m\u001b[0;34m)\u001b[0m\u001b[0;34m)\u001b[0m\u001b[0;34m\u001b[0m\u001b[0;34m\u001b[0m\u001b[0m\n\u001b[1;32m    224\u001b[0m     \u001b[0;31m# key is a integer array-like of key\u001b[0m\u001b[0;34m\u001b[0m\u001b[0;34m\u001b[0m\u001b[0;34m\u001b[0m\u001b[0m\n\u001b[0;32m--> 225\u001b[0;31m     \u001b[0;32mreturn\u001b[0m \u001b[0;34m[\u001b[0m\u001b[0mX\u001b[0m\u001b[0;34m[\u001b[0m\u001b[0midx\u001b[0m\u001b[0;34m]\u001b[0m \u001b[0;32mfor\u001b[0m \u001b[0midx\u001b[0m \u001b[0;32min\u001b[0m \u001b[0mkey\u001b[0m\u001b[0;34m]\u001b[0m\u001b[0;34m\u001b[0m\u001b[0;34m\u001b[0m\u001b[0m\n\u001b[0m\u001b[1;32m    226\u001b[0m \u001b[0;34m\u001b[0m\u001b[0m\n\u001b[1;32m    227\u001b[0m \u001b[0;34m\u001b[0m\u001b[0m\n",
            "\u001b[0;32m/usr/local/lib/python3.6/dist-packages/keras_preprocessing/image/iterator.py\u001b[0m in \u001b[0;36m__getitem__\u001b[0;34m(self, idx)\u001b[0m\n\u001b[1;32m     63\u001b[0m         index_array = self.index_array[self.batch_size * idx:\n\u001b[1;32m     64\u001b[0m                                        self.batch_size * (idx + 1)]\n\u001b[0;32m---> 65\u001b[0;31m         \u001b[0;32mreturn\u001b[0m \u001b[0mself\u001b[0m\u001b[0;34m.\u001b[0m\u001b[0m_get_batches_of_transformed_samples\u001b[0m\u001b[0;34m(\u001b[0m\u001b[0mindex_array\u001b[0m\u001b[0;34m)\u001b[0m\u001b[0;34m\u001b[0m\u001b[0;34m\u001b[0m\u001b[0m\n\u001b[0m\u001b[1;32m     66\u001b[0m \u001b[0;34m\u001b[0m\u001b[0m\n\u001b[1;32m     67\u001b[0m     \u001b[0;32mdef\u001b[0m \u001b[0m__len__\u001b[0m\u001b[0;34m(\u001b[0m\u001b[0mself\u001b[0m\u001b[0;34m)\u001b[0m\u001b[0;34m:\u001b[0m\u001b[0;34m\u001b[0m\u001b[0;34m\u001b[0m\u001b[0m\n",
            "\u001b[0;32m/usr/local/lib/python3.6/dist-packages/keras_preprocessing/image/iterator.py\u001b[0m in \u001b[0;36m_get_batches_of_transformed_samples\u001b[0;34m(self, index_array)\u001b[0m\n\u001b[1;32m    228\u001b[0m                            \u001b[0mcolor_mode\u001b[0m\u001b[0;34m=\u001b[0m\u001b[0mself\u001b[0m\u001b[0;34m.\u001b[0m\u001b[0mcolor_mode\u001b[0m\u001b[0;34m,\u001b[0m\u001b[0;34m\u001b[0m\u001b[0;34m\u001b[0m\u001b[0m\n\u001b[1;32m    229\u001b[0m                            \u001b[0mtarget_size\u001b[0m\u001b[0;34m=\u001b[0m\u001b[0mself\u001b[0m\u001b[0;34m.\u001b[0m\u001b[0mtarget_size\u001b[0m\u001b[0;34m,\u001b[0m\u001b[0;34m\u001b[0m\u001b[0;34m\u001b[0m\u001b[0m\n\u001b[0;32m--> 230\u001b[0;31m                            interpolation=self.interpolation)\n\u001b[0m\u001b[1;32m    231\u001b[0m             \u001b[0mx\u001b[0m \u001b[0;34m=\u001b[0m \u001b[0mimg_to_array\u001b[0m\u001b[0;34m(\u001b[0m\u001b[0mimg\u001b[0m\u001b[0;34m,\u001b[0m \u001b[0mdata_format\u001b[0m\u001b[0;34m=\u001b[0m\u001b[0mself\u001b[0m\u001b[0;34m.\u001b[0m\u001b[0mdata_format\u001b[0m\u001b[0;34m)\u001b[0m\u001b[0;34m\u001b[0m\u001b[0;34m\u001b[0m\u001b[0m\n\u001b[1;32m    232\u001b[0m             \u001b[0;31m# Pillow images should be closed after `load_img`,\u001b[0m\u001b[0;34m\u001b[0m\u001b[0;34m\u001b[0m\u001b[0;34m\u001b[0m\u001b[0m\n",
            "\u001b[0;32m/usr/local/lib/python3.6/dist-packages/keras_preprocessing/image/utils.py\u001b[0m in \u001b[0;36mload_img\u001b[0;34m(path, grayscale, color_mode, target_size, interpolation)\u001b[0m\n\u001b[1;32m    112\u001b[0m                           'The use of `load_img` requires PIL.')\n\u001b[1;32m    113\u001b[0m     \u001b[0;32mwith\u001b[0m \u001b[0mopen\u001b[0m\u001b[0;34m(\u001b[0m\u001b[0mpath\u001b[0m\u001b[0;34m,\u001b[0m \u001b[0;34m'rb'\u001b[0m\u001b[0;34m)\u001b[0m \u001b[0;32mas\u001b[0m \u001b[0mf\u001b[0m\u001b[0;34m:\u001b[0m\u001b[0;34m\u001b[0m\u001b[0;34m\u001b[0m\u001b[0m\n\u001b[0;32m--> 114\u001b[0;31m         \u001b[0mimg\u001b[0m \u001b[0;34m=\u001b[0m \u001b[0mpil_image\u001b[0m\u001b[0;34m.\u001b[0m\u001b[0mopen\u001b[0m\u001b[0;34m(\u001b[0m\u001b[0mio\u001b[0m\u001b[0;34m.\u001b[0m\u001b[0mBytesIO\u001b[0m\u001b[0;34m(\u001b[0m\u001b[0mf\u001b[0m\u001b[0;34m.\u001b[0m\u001b[0mread\u001b[0m\u001b[0;34m(\u001b[0m\u001b[0;34m)\u001b[0m\u001b[0;34m)\u001b[0m\u001b[0;34m)\u001b[0m\u001b[0;34m\u001b[0m\u001b[0;34m\u001b[0m\u001b[0m\n\u001b[0m\u001b[1;32m    115\u001b[0m         \u001b[0;32mif\u001b[0m \u001b[0mcolor_mode\u001b[0m \u001b[0;34m==\u001b[0m \u001b[0;34m'grayscale'\u001b[0m\u001b[0;34m:\u001b[0m\u001b[0;34m\u001b[0m\u001b[0;34m\u001b[0m\u001b[0m\n\u001b[1;32m    116\u001b[0m             \u001b[0;31m# if image is not already an 8-bit, 16-bit or 32-bit grayscale image\u001b[0m\u001b[0;34m\u001b[0m\u001b[0;34m\u001b[0m\u001b[0;34m\u001b[0m\u001b[0m\n",
            "\u001b[0;31mKeyboardInterrupt\u001b[0m: "
          ]
        }
      ]
    },
    {
      "cell_type": "code",
      "metadata": {
        "id": "tCU46f_9banU"
      },
      "source": [
        "#option to stop training\n",
        "from tensorflow.keras.callbacks import EarlyStopping\n",
        "import tensorflow as tf\n",
        "class myCallback(tf.keras.callbacks.Callback):\n",
        "    def on_epoch_end(self, epoch, logs={}):\n",
        "        if(logs.get('accuracy')>0.96):\n",
        "            print(\"\\nReached 97% accuracy so cancelling training!\")\n",
        "            self.modeldil.stop_training = True"
      ],
      "execution_count": null,
      "outputs": []
    },
    {
      "cell_type": "code",
      "metadata": {
        "id": "XHI_F4vZbaeX",
        "colab": {
          "base_uri": "https://localhost:8080/",
          "height": 836
        },
        "outputId": "33cf7fc7-019e-4e43-b2dd-ab2a9572c96a"
      },
      "source": [
        "#option\n",
        "callbacks = myCallback()\n",
        "hist = modeldil.fit_generator(train_generator,epochs = 10,\n",
        "                             validation_data = validation_generator,\n",
        "                             callbacks = [callbacks])\n",
        "#hist = modeldil.fit_generator(train_generator,epochs = 10,\n",
        "                             validation_data = validation_generator,\n",
        "                             callbacks = [callbacks])"
      ],
      "execution_count": null,
      "outputs": [
        {
          "output_type": "stream",
          "text": [
            "WARNING:tensorflow:From <ipython-input-10-d1ec2142d791>:4: Model.fit_generator (from tensorflow.python.keras.engine.training) is deprecated and will be removed in a future version.\n",
            "Instructions for updating:\n",
            "Please use Model.fit, which supports generators.\n",
            "Epoch 1/20\n",
            "38/38 [==============================] - 794s 21s/step - loss: 0.5537 - accuracy: 0.7047 - val_loss: 0.2367 - val_accuracy: 0.9459\n",
            "Epoch 2/20\n",
            "38/38 [==============================] - 47s 1s/step - loss: 0.2685 - accuracy: 0.9118 - val_loss: 0.1209 - val_accuracy: 0.9640\n",
            "Epoch 3/20\n",
            "38/38 [==============================] - 47s 1s/step - loss: 0.1868 - accuracy: 0.9451 - val_loss: 0.1240 - val_accuracy: 0.9730\n",
            "Epoch 4/20\n",
            "38/38 [==============================] - 47s 1s/step - loss: 0.2010 - accuracy: 0.9334 - val_loss: 0.2353 - val_accuracy: 0.8739\n",
            "Epoch 5/20\n",
            "38/38 [==============================] - 47s 1s/step - loss: 0.1901 - accuracy: 0.9334 - val_loss: 0.1406 - val_accuracy: 0.9459\n",
            "Epoch 6/20\n",
            "38/38 [==============================] - 47s 1s/step - loss: 0.1624 - accuracy: 0.9459 - val_loss: 0.0924 - val_accuracy: 0.9640\n",
            "Epoch 7/20\n",
            "38/38 [==============================] - 47s 1s/step - loss: 0.2111 - accuracy: 0.9226 - val_loss: 0.1498 - val_accuracy: 0.9459\n",
            "Epoch 8/20\n",
            "38/38 [==============================] - 47s 1s/step - loss: 0.1806 - accuracy: 0.9459 - val_loss: 0.1001 - val_accuracy: 0.9730\n",
            "Epoch 9/20\n",
            "38/38 [==============================] - 47s 1s/step - loss: 0.1656 - accuracy: 0.9443 - val_loss: 0.0889 - val_accuracy: 0.9730\n",
            "Epoch 10/20\n",
            "38/38 [==============================] - 48s 1s/step - loss: 0.1513 - accuracy: 0.9484 - val_loss: 0.0819 - val_accuracy: 0.9730\n",
            "Epoch 11/20\n",
            "38/38 [==============================] - 47s 1s/step - loss: 0.1354 - accuracy: 0.9517 - val_loss: 0.0804 - val_accuracy: 0.9730\n",
            "Epoch 12/20\n",
            "38/38 [==============================] - 47s 1s/step - loss: 0.1410 - accuracy: 0.9584 - val_loss: 0.0625 - val_accuracy: 0.9730\n",
            "Epoch 13/20\n",
            "38/38 [==============================] - ETA: 0s - loss: 0.0948 - accuracy: 0.9767\n",
            "Reached 97% accuracy so cancelling training!\n"
          ],
          "name": "stdout"
        },
        {
          "output_type": "error",
          "ename": "AttributeError",
          "evalue": "ignored",
          "traceback": [
            "\u001b[0;31m---------------------------------------------------------------------------\u001b[0m",
            "\u001b[0;31mAttributeError\u001b[0m                            Traceback (most recent call last)",
            "\u001b[0;32m<ipython-input-10-d1ec2142d791>\u001b[0m in \u001b[0;36m<module>\u001b[0;34m()\u001b[0m\n\u001b[1;32m      2\u001b[0m results = modeldil.fit_generator(train_generator,epochs = 20,\n\u001b[1;32m      3\u001b[0m                              \u001b[0mvalidation_data\u001b[0m \u001b[0;34m=\u001b[0m \u001b[0mvalidation_generator\u001b[0m\u001b[0;34m,\u001b[0m\u001b[0;34m\u001b[0m\u001b[0;34m\u001b[0m\u001b[0m\n\u001b[0;32m----> 4\u001b[0;31m                              callbacks = [callbacks])\n\u001b[0m",
            "\u001b[0;32m/usr/local/lib/python3.6/dist-packages/tensorflow/python/util/deprecation.py\u001b[0m in \u001b[0;36mnew_func\u001b[0;34m(*args, **kwargs)\u001b[0m\n\u001b[1;32m    322\u001b[0m               \u001b[0;34m'in a future version'\u001b[0m \u001b[0;32mif\u001b[0m \u001b[0mdate\u001b[0m \u001b[0;32mis\u001b[0m \u001b[0;32mNone\u001b[0m \u001b[0;32melse\u001b[0m \u001b[0;34m(\u001b[0m\u001b[0;34m'after %s'\u001b[0m \u001b[0;34m%\u001b[0m \u001b[0mdate\u001b[0m\u001b[0;34m)\u001b[0m\u001b[0;34m,\u001b[0m\u001b[0;34m\u001b[0m\u001b[0;34m\u001b[0m\u001b[0m\n\u001b[1;32m    323\u001b[0m               instructions)\n\u001b[0;32m--> 324\u001b[0;31m       \u001b[0;32mreturn\u001b[0m \u001b[0mfunc\u001b[0m\u001b[0;34m(\u001b[0m\u001b[0;34m*\u001b[0m\u001b[0margs\u001b[0m\u001b[0;34m,\u001b[0m \u001b[0;34m**\u001b[0m\u001b[0mkwargs\u001b[0m\u001b[0;34m)\u001b[0m\u001b[0;34m\u001b[0m\u001b[0;34m\u001b[0m\u001b[0m\n\u001b[0m\u001b[1;32m    325\u001b[0m     return tf_decorator.make_decorator(\n\u001b[1;32m    326\u001b[0m         \u001b[0mfunc\u001b[0m\u001b[0;34m,\u001b[0m \u001b[0mnew_func\u001b[0m\u001b[0;34m,\u001b[0m \u001b[0;34m'deprecated'\u001b[0m\u001b[0;34m,\u001b[0m\u001b[0;34m\u001b[0m\u001b[0;34m\u001b[0m\u001b[0m\n",
            "\u001b[0;32m/usr/local/lib/python3.6/dist-packages/tensorflow/python/keras/engine/training.py\u001b[0m in \u001b[0;36mfit_generator\u001b[0;34m(self, generator, steps_per_epoch, epochs, verbose, callbacks, validation_data, validation_steps, validation_freq, class_weight, max_queue_size, workers, use_multiprocessing, shuffle, initial_epoch)\u001b[0m\n\u001b[1;32m   1827\u001b[0m         \u001b[0muse_multiprocessing\u001b[0m\u001b[0;34m=\u001b[0m\u001b[0muse_multiprocessing\u001b[0m\u001b[0;34m,\u001b[0m\u001b[0;34m\u001b[0m\u001b[0;34m\u001b[0m\u001b[0m\n\u001b[1;32m   1828\u001b[0m         \u001b[0mshuffle\u001b[0m\u001b[0;34m=\u001b[0m\u001b[0mshuffle\u001b[0m\u001b[0;34m,\u001b[0m\u001b[0;34m\u001b[0m\u001b[0;34m\u001b[0m\u001b[0m\n\u001b[0;32m-> 1829\u001b[0;31m         initial_epoch=initial_epoch)\n\u001b[0m\u001b[1;32m   1830\u001b[0m \u001b[0;34m\u001b[0m\u001b[0m\n\u001b[1;32m   1831\u001b[0m   @deprecation.deprecated(\n",
            "\u001b[0;32m/usr/local/lib/python3.6/dist-packages/tensorflow/python/keras/engine/training.py\u001b[0m in \u001b[0;36m_method_wrapper\u001b[0;34m(self, *args, **kwargs)\u001b[0m\n\u001b[1;32m    106\u001b[0m   \u001b[0;32mdef\u001b[0m \u001b[0m_method_wrapper\u001b[0m\u001b[0;34m(\u001b[0m\u001b[0mself\u001b[0m\u001b[0;34m,\u001b[0m \u001b[0;34m*\u001b[0m\u001b[0margs\u001b[0m\u001b[0;34m,\u001b[0m \u001b[0;34m**\u001b[0m\u001b[0mkwargs\u001b[0m\u001b[0;34m)\u001b[0m\u001b[0;34m:\u001b[0m\u001b[0;34m\u001b[0m\u001b[0;34m\u001b[0m\u001b[0m\n\u001b[1;32m    107\u001b[0m     \u001b[0;32mif\u001b[0m \u001b[0;32mnot\u001b[0m \u001b[0mself\u001b[0m\u001b[0;34m.\u001b[0m\u001b[0m_in_multi_worker_mode\u001b[0m\u001b[0;34m(\u001b[0m\u001b[0;34m)\u001b[0m\u001b[0;34m:\u001b[0m  \u001b[0;31m# pylint: disable=protected-access\u001b[0m\u001b[0;34m\u001b[0m\u001b[0;34m\u001b[0m\u001b[0m\n\u001b[0;32m--> 108\u001b[0;31m       \u001b[0;32mreturn\u001b[0m \u001b[0mmethod\u001b[0m\u001b[0;34m(\u001b[0m\u001b[0mself\u001b[0m\u001b[0;34m,\u001b[0m \u001b[0;34m*\u001b[0m\u001b[0margs\u001b[0m\u001b[0;34m,\u001b[0m \u001b[0;34m**\u001b[0m\u001b[0mkwargs\u001b[0m\u001b[0;34m)\u001b[0m\u001b[0;34m\u001b[0m\u001b[0;34m\u001b[0m\u001b[0m\n\u001b[0m\u001b[1;32m    109\u001b[0m \u001b[0;34m\u001b[0m\u001b[0m\n\u001b[1;32m    110\u001b[0m     \u001b[0;31m# Running inside `run_distribute_coordinator` already.\u001b[0m\u001b[0;34m\u001b[0m\u001b[0;34m\u001b[0m\u001b[0;34m\u001b[0m\u001b[0m\n",
            "\u001b[0;32m/usr/local/lib/python3.6/dist-packages/tensorflow/python/keras/engine/training.py\u001b[0m in \u001b[0;36mfit\u001b[0;34m(self, x, y, batch_size, epochs, verbose, callbacks, validation_split, validation_data, shuffle, class_weight, sample_weight, initial_epoch, steps_per_epoch, validation_steps, validation_batch_size, validation_freq, max_queue_size, workers, use_multiprocessing)\u001b[0m\n\u001b[1;32m   1135\u001b[0m           \u001b[0mepoch_logs\u001b[0m\u001b[0;34m.\u001b[0m\u001b[0mupdate\u001b[0m\u001b[0;34m(\u001b[0m\u001b[0mval_logs\u001b[0m\u001b[0;34m)\u001b[0m\u001b[0;34m\u001b[0m\u001b[0;34m\u001b[0m\u001b[0m\n\u001b[1;32m   1136\u001b[0m \u001b[0;34m\u001b[0m\u001b[0m\n\u001b[0;32m-> 1137\u001b[0;31m         \u001b[0mcallbacks\u001b[0m\u001b[0;34m.\u001b[0m\u001b[0mon_epoch_end\u001b[0m\u001b[0;34m(\u001b[0m\u001b[0mepoch\u001b[0m\u001b[0;34m,\u001b[0m \u001b[0mepoch_logs\u001b[0m\u001b[0;34m)\u001b[0m\u001b[0;34m\u001b[0m\u001b[0;34m\u001b[0m\u001b[0m\n\u001b[0m\u001b[1;32m   1138\u001b[0m         \u001b[0mtraining_logs\u001b[0m \u001b[0;34m=\u001b[0m \u001b[0mepoch_logs\u001b[0m\u001b[0;34m\u001b[0m\u001b[0;34m\u001b[0m\u001b[0m\n\u001b[1;32m   1139\u001b[0m         \u001b[0;32mif\u001b[0m \u001b[0mself\u001b[0m\u001b[0;34m.\u001b[0m\u001b[0mstop_training\u001b[0m\u001b[0;34m:\u001b[0m\u001b[0;34m\u001b[0m\u001b[0;34m\u001b[0m\u001b[0m\n",
            "\u001b[0;32m/usr/local/lib/python3.6/dist-packages/tensorflow/python/keras/callbacks.py\u001b[0m in \u001b[0;36mon_epoch_end\u001b[0;34m(self, epoch, logs)\u001b[0m\n\u001b[1;32m    414\u001b[0m         \u001b[0;32mif\u001b[0m \u001b[0mnumpy_logs\u001b[0m \u001b[0;32mis\u001b[0m \u001b[0;32mNone\u001b[0m\u001b[0;34m:\u001b[0m  \u001b[0;31m# Only convert once.\u001b[0m\u001b[0;34m\u001b[0m\u001b[0;34m\u001b[0m\u001b[0m\n\u001b[1;32m    415\u001b[0m           \u001b[0mnumpy_logs\u001b[0m \u001b[0;34m=\u001b[0m \u001b[0mtf_utils\u001b[0m\u001b[0;34m.\u001b[0m\u001b[0mto_numpy_or_python_type\u001b[0m\u001b[0;34m(\u001b[0m\u001b[0mlogs\u001b[0m\u001b[0;34m)\u001b[0m\u001b[0;34m\u001b[0m\u001b[0;34m\u001b[0m\u001b[0m\n\u001b[0;32m--> 416\u001b[0;31m         \u001b[0mcallback\u001b[0m\u001b[0;34m.\u001b[0m\u001b[0mon_epoch_end\u001b[0m\u001b[0;34m(\u001b[0m\u001b[0mepoch\u001b[0m\u001b[0;34m,\u001b[0m \u001b[0mnumpy_logs\u001b[0m\u001b[0;34m)\u001b[0m\u001b[0;34m\u001b[0m\u001b[0;34m\u001b[0m\u001b[0m\n\u001b[0m\u001b[1;32m    417\u001b[0m \u001b[0;34m\u001b[0m\u001b[0m\n\u001b[1;32m    418\u001b[0m   \u001b[0;32mdef\u001b[0m \u001b[0mon_train_batch_begin\u001b[0m\u001b[0;34m(\u001b[0m\u001b[0mself\u001b[0m\u001b[0;34m,\u001b[0m \u001b[0mbatch\u001b[0m\u001b[0;34m,\u001b[0m \u001b[0mlogs\u001b[0m\u001b[0;34m=\u001b[0m\u001b[0;32mNone\u001b[0m\u001b[0;34m)\u001b[0m\u001b[0;34m:\u001b[0m\u001b[0;34m\u001b[0m\u001b[0;34m\u001b[0m\u001b[0m\n",
            "\u001b[0;32m<ipython-input-9-3ff1c390e12a>\u001b[0m in \u001b[0;36mon_epoch_end\u001b[0;34m(self, epoch, logs)\u001b[0m\n\u001b[1;32m      5\u001b[0m         \u001b[0;32mif\u001b[0m\u001b[0;34m(\u001b[0m\u001b[0mlogs\u001b[0m\u001b[0;34m.\u001b[0m\u001b[0mget\u001b[0m\u001b[0;34m(\u001b[0m\u001b[0;34m'accuracy'\u001b[0m\u001b[0;34m)\u001b[0m\u001b[0;34m>\u001b[0m\u001b[0;36m0.96\u001b[0m\u001b[0;34m)\u001b[0m\u001b[0;34m:\u001b[0m\u001b[0;34m\u001b[0m\u001b[0;34m\u001b[0m\u001b[0m\n\u001b[1;32m      6\u001b[0m             \u001b[0mprint\u001b[0m\u001b[0;34m(\u001b[0m\u001b[0;34m\"\\nReached 97% accuracy so cancelling training!\"\u001b[0m\u001b[0;34m)\u001b[0m\u001b[0;34m\u001b[0m\u001b[0;34m\u001b[0m\u001b[0m\n\u001b[0;32m----> 7\u001b[0;31m             \u001b[0mself\u001b[0m\u001b[0;34m.\u001b[0m\u001b[0mmodeldil\u001b[0m\u001b[0;34m.\u001b[0m\u001b[0mstop_training\u001b[0m \u001b[0;34m=\u001b[0m \u001b[0;32mTrue\u001b[0m\u001b[0;34m\u001b[0m\u001b[0;34m\u001b[0m\u001b[0m\n\u001b[0m",
            "\u001b[0;31mAttributeError\u001b[0m: 'myCallback' object has no attribute 'modeldil'"
          ]
        }
      ]
    },
    {
      "cell_type": "code",
      "metadata": {
        "id": "YSUQ0sXHsOAw",
        "colab": {
          "base_uri": "https://localhost:8080/",
          "height": 445
        },
        "outputId": "748ec946-d457-4d4c-f288-ba5d248ecaa1"
      },
      "source": [
        "histcnn = model.fit_generator(\n",
        "    train_generator,\n",
        "    steps_per_epoch=12,\n",
        "    epochs = 12,\n",
        "    validation_data = validation_generator,\n",
        "    validation_steps=2\n",
        ")"
      ],
      "execution_count": null,
      "outputs": [
        {
          "output_type": "stream",
          "text": [
            "Epoch 1/12\n",
            "12/12 [==============================] - 18s 1s/step - loss: 1.2046 - accuracy: 0.5635 - val_loss: 0.6860 - val_accuracy: 0.7969\n",
            "Epoch 2/12\n",
            "12/12 [==============================] - 16s 1s/step - loss: 0.6463 - accuracy: 0.6630 - val_loss: 0.6242 - val_accuracy: 0.8906\n",
            "Epoch 3/12\n",
            "12/12 [==============================] - 16s 1s/step - loss: 0.4314 - accuracy: 0.8333 - val_loss: 0.2208 - val_accuracy: 0.9375\n",
            "Epoch 4/12\n",
            "12/12 [==============================] - 18s 1s/step - loss: 0.3487 - accuracy: 0.8932 - val_loss: 0.2489 - val_accuracy: 0.9219\n",
            "Epoch 5/12\n",
            "12/12 [==============================] - 17s 1s/step - loss: 0.2828 - accuracy: 0.8906 - val_loss: 0.2146 - val_accuracy: 0.9375\n",
            "Epoch 6/12\n",
            "12/12 [==============================] - 17s 1s/step - loss: 0.2687 - accuracy: 0.8776 - val_loss: 0.1248 - val_accuracy: 0.9844\n",
            "Epoch 7/12\n",
            "12/12 [==============================] - 17s 1s/step - loss: 0.3201 - accuracy: 0.8932 - val_loss: 0.2684 - val_accuracy: 0.9375\n",
            "Epoch 8/12\n",
            "12/12 [==============================] - 17s 1s/step - loss: 0.2877 - accuracy: 0.9033 - val_loss: 0.1888 - val_accuracy: 0.9844\n",
            "Epoch 9/12\n",
            "12/12 [==============================] - 17s 1s/step - loss: 0.1985 - accuracy: 0.9375 - val_loss: 0.1791 - val_accuracy: 0.9375\n",
            "Epoch 10/12\n",
            "12/12 [==============================] - 18s 1s/step - loss: 0.2887 - accuracy: 0.8958 - val_loss: 0.1571 - val_accuracy: 0.9531\n",
            "Epoch 11/12\n",
            "12/12 [==============================] - 17s 1s/step - loss: 0.2272 - accuracy: 0.9254 - val_loss: 0.2540 - val_accuracy: 0.9688\n",
            "Epoch 12/12\n",
            "12/12 [==============================] - 16s 1s/step - loss: 0.2172 - accuracy: 0.9392 - val_loss: 0.1159 - val_accuracy: 0.9531\n"
          ],
          "name": "stdout"
        }
      ]
    },
    {
      "cell_type": "code",
      "metadata": {
        "id": "Hfu6HChQSRvu"
      },
      "source": [
        "#cnn graph\n",
        "import matplotlib.pyplot as plt\n",
        "%matplotlib inline\n",
        "\n",
        "# listing data in graph\n",
        "#print(hist.history.keys())\n",
        "\n",
        "# summarize graph for accuracy\n",
        "#plt.plot(hist.history['accuracy'])\n",
        "plt.plot(hist.history['val_accuracy'])\n",
        "plt.plot(hist.history['accuracy'])\n",
        "#plt.plot(histcnn.history['val_accuracy'])\n",
        "#plt.plot(histdil.history['accuracy'])\n",
        "#plt.plot(histdil.history['val_accuracy'])\n",
        "plt.title('CNN Model accuracy')\n",
        "plt.ylabel('accuracy')\n",
        "plt.xlabel('epoch')\n",
        "plt.legend(['test', 'train'], loc='upper left')\n",
        "plt.show()"
      ],
      "execution_count": null,
      "outputs": []
    },
    {
      "cell_type": "code",
      "metadata": {
        "id": "a3fU5GpBQknd",
        "colab": {
          "base_uri": "https://localhost:8080/",
          "height": 445
        },
        "outputId": "e886d349-5638-452a-ceeb-750c26544ea1"
      },
      "source": [
        "histdil = modeldil.fit_generator(\n",
        "    train_generator,\n",
        "    steps_per_epoch=12,\n",
        "    epochs = 12,\n",
        "    validation_data = validation_generator,\n",
        "    validation_steps=2\n",
        ")"
      ],
      "execution_count": null,
      "outputs": [
        {
          "output_type": "stream",
          "text": [
            "Epoch 1/12\n",
            "12/12 [==============================] - 267s 22s/step - loss: 0.9844 - accuracy: 0.5573 - val_loss: 0.6638 - val_accuracy: 0.7656\n",
            "Epoch 2/12\n",
            "12/12 [==============================] - 153s 13s/step - loss: 0.5377 - accuracy: 0.7422 - val_loss: 0.4260 - val_accuracy: 0.8438\n",
            "Epoch 3/12\n",
            "12/12 [==============================] - 120s 10s/step - loss: 0.3365 - accuracy: 0.8568 - val_loss: 0.2585 - val_accuracy: 0.8906\n",
            "Epoch 4/12\n",
            "12/12 [==============================] - 72s 6s/step - loss: 0.2693 - accuracy: 0.9062 - val_loss: 0.1848 - val_accuracy: 0.9375\n",
            "Epoch 5/12\n",
            "12/12 [==============================] - 48s 4s/step - loss: 0.2731 - accuracy: 0.8892 - val_loss: 0.1581 - val_accuracy: 0.9375\n",
            "Epoch 6/12\n",
            "12/12 [==============================] - 38s 3s/step - loss: 0.2266 - accuracy: 0.8906 - val_loss: 0.1462 - val_accuracy: 0.9688\n",
            "Epoch 7/12\n",
            "12/12 [==============================] - 25s 2s/step - loss: 0.2541 - accuracy: 0.9216 - val_loss: 0.1965 - val_accuracy: 0.9531\n",
            "Epoch 8/12\n",
            "12/12 [==============================] - 21s 2s/step - loss: 0.2806 - accuracy: 0.9054 - val_loss: 0.1718 - val_accuracy: 0.9688\n",
            "Epoch 9/12\n",
            "12/12 [==============================] - 21s 2s/step - loss: 0.2042 - accuracy: 0.9401 - val_loss: 0.0674 - val_accuracy: 0.9844\n",
            "Epoch 10/12\n",
            "12/12 [==============================] - 20s 2s/step - loss: 0.1688 - accuracy: 0.9453 - val_loss: 0.1901 - val_accuracy: 0.9219\n",
            "Epoch 11/12\n",
            "12/12 [==============================] - 18s 2s/step - loss: 0.1751 - accuracy: 0.9505 - val_loss: 0.0809 - val_accuracy: 0.9688\n",
            "Epoch 12/12\n",
            "12/12 [==============================] - 20s 2s/step - loss: 0.1947 - accuracy: 0.9349 - val_loss: 0.1412 - val_accuracy: 0.9531\n"
          ],
          "name": "stdout"
        }
      ]
    },
    {
      "cell_type": "code",
      "metadata": {
        "id": "3laUVkGHLnj8",
        "colab": {
          "base_uri": "https://localhost:8080/",
          "height": 547
        },
        "outputId": "9517ad9d-5ad4-4bbf-9196-38f75102de22"
      },
      "source": [
        "hist= model.fit_generator(\n",
        "    train_generator,\n",
        "    steps_per_epoch=12,\n",
        "    epochs = 15,\n",
        "    validation_data = validation_generator,\n",
        "    validation_steps=2\n",
        ")"
      ],
      "execution_count": null,
      "outputs": [
        {
          "output_type": "stream",
          "text": [
            "Epoch 1/15\n",
            "12/12 [==============================] - 15s 1s/step - loss: 1.2253 - accuracy: 0.5351 - val_loss: 0.6908 - val_accuracy: 0.4844\n",
            "Epoch 2/15\n",
            "12/12 [==============================] - 14s 1s/step - loss: 0.6567 - accuracy: 0.6016 - val_loss: 0.6381 - val_accuracy: 0.8594\n",
            "Epoch 3/15\n",
            "12/12 [==============================] - 14s 1s/step - loss: 0.4650 - accuracy: 0.7812 - val_loss: 0.2808 - val_accuracy: 0.9375\n",
            "Epoch 4/15\n",
            "12/12 [==============================] - 14s 1s/step - loss: 0.3041 - accuracy: 0.8958 - val_loss: 0.1693 - val_accuracy: 0.9375\n",
            "Epoch 5/15\n",
            "12/12 [==============================] - 14s 1s/step - loss: 0.2498 - accuracy: 0.9089 - val_loss: 0.1738 - val_accuracy: 0.9219\n",
            "Epoch 6/15\n",
            "12/12 [==============================] - 14s 1s/step - loss: 0.3113 - accuracy: 0.8672 - val_loss: 0.1837 - val_accuracy: 0.9219\n",
            "Epoch 7/15\n",
            "12/12 [==============================] - 14s 1s/step - loss: 0.2630 - accuracy: 0.8906 - val_loss: 0.1640 - val_accuracy: 0.9531\n",
            "Epoch 8/15\n",
            "12/12 [==============================] - 15s 1s/step - loss: 0.3091 - accuracy: 0.8750 - val_loss: 0.1748 - val_accuracy: 0.9375\n",
            "Epoch 9/15\n",
            "12/12 [==============================] - 14s 1s/step - loss: 0.2703 - accuracy: 0.8541 - val_loss: 0.1867 - val_accuracy: 0.9375\n",
            "Epoch 10/15\n",
            "12/12 [==============================] - 14s 1s/step - loss: 0.2693 - accuracy: 0.8958 - val_loss: 0.1778 - val_accuracy: 0.9375\n",
            "Epoch 11/15\n",
            "12/12 [==============================] - 14s 1s/step - loss: 0.2823 - accuracy: 0.9036 - val_loss: 0.2152 - val_accuracy: 0.9375\n",
            "Epoch 12/15\n",
            "12/12 [==============================] - 14s 1s/step - loss: 0.2936 - accuracy: 0.8838 - val_loss: 0.1119 - val_accuracy: 0.9531\n",
            "Epoch 13/15\n",
            "12/12 [==============================] - 15s 1s/step - loss: 0.2550 - accuracy: 0.8880 - val_loss: 0.1213 - val_accuracy: 0.9688\n",
            "Epoch 14/15\n",
            "12/12 [==============================] - 15s 1s/step - loss: 0.2876 - accuracy: 0.8750 - val_loss: 0.1542 - val_accuracy: 0.9531\n",
            "Epoch 15/15\n",
            "12/12 [==============================] - 15s 1s/step - loss: 0.3196 - accuracy: 0.8892 - val_loss: 0.1177 - val_accuracy: 0.9688\n"
          ],
          "name": "stdout"
        }
      ]
    },
    {
      "cell_type": "code",
      "metadata": {
        "id": "s_adriYjnKdN"
      },
      "source": [
        "# Let's now save our model to a file\n",
        "import tensorflow as tf\n",
        "modeldil.save('chestXray_image_classifier.h5')\n",
        "\n"
      ],
      "execution_count": null,
      "outputs": []
    },
    {
      "cell_type": "code",
      "metadata": {
        "id": "8PLI_dBmr_bH",
        "colab": {
          "base_uri": "https://localhost:8080/",
          "height": 326
        },
        "outputId": "8f70e365-a60e-4905-8eaf-b3301c3b433c"
      },
      "source": [
        "from sklearn.metrics import classification_report\n",
        "from sklearn.metrics import confusion_matrix\n",
        "# Load the model\n",
        "modeldil = tf.keras.models.load_model('chestXray_image_classifier.h5')\n",
        "\n",
        "modeldil.evaluate_generator(validation_generator)\n",
        "\n",
        "#Prediction on image\n",
        "pred = modeldil.predict_generator(validation_generator)\n",
        "\n",
        "predictions = pred > .5\n",
        "\n",
        "print(classification_report(validation_generator.classes,predictions))\n",
        "print(confusion_matrix(validation_generator.classes,predictions))"
      ],
      "execution_count": null,
      "outputs": [
        {
          "output_type": "stream",
          "text": [
            "WARNING:tensorflow:From <ipython-input-12-5a5887904959>:6: Model.evaluate_generator (from tensorflow.python.keras.engine.training) is deprecated and will be removed in a future version.\n",
            "Instructions for updating:\n",
            "Please use Model.evaluate, which supports generators.\n",
            "WARNING:tensorflow:From <ipython-input-12-5a5887904959>:9: Model.predict_generator (from tensorflow.python.keras.engine.training) is deprecated and will be removed in a future version.\n",
            "Instructions for updating:\n",
            "Please use Model.predict, which supports generators.\n",
            "              precision    recall  f1-score   support\n",
            "\n",
            "           0       0.54      0.53      0.53        55\n",
            "           1       0.54      0.55      0.55        56\n",
            "\n",
            "    accuracy                           0.54       111\n",
            "   macro avg       0.54      0.54      0.54       111\n",
            "weighted avg       0.54      0.54      0.54       111\n",
            "\n",
            "[[29 26]\n",
            " [25 31]]\n"
          ],
          "name": "stdout"
        }
      ]
    },
    {
      "cell_type": "code",
      "metadata": {
        "id": "YXIvy2aUtFMY"
      },
      "source": [
        ""
      ],
      "execution_count": null,
      "outputs": []
    },
    {
      "cell_type": "code",
      "metadata": {
        "id": "O20DhM29Ry4p",
        "colab": {
          "base_uri": "https://localhost:8080/",
          "height": 34
        },
        "outputId": "ebc090e1-ecd3-476b-a0f6-5112a012a415"
      },
      "source": [
        "print(\"[INFO] evaluating network...\")\n",
        "predIdxs = modeldil.predict(validation_generator, batch_size=32)"
      ],
      "execution_count": null,
      "outputs": [
        {
          "output_type": "stream",
          "text": [
            "[INFO] evaluating network...\n"
          ],
          "name": "stdout"
        }
      ]
    },
    {
      "cell_type": "code",
      "metadata": {
        "id": "0N9E-iMCWH4O"
      },
      "source": [
        "predIdxs = np.argmax(predIdxs, axis=1)"
      ],
      "execution_count": null,
      "outputs": []
    },
    {
      "cell_type": "code",
      "metadata": {
        "id": "NozC4WbBYE7h",
        "colab": {
          "base_uri": "https://localhost:8080/",
          "height": 34
        },
        "outputId": "0839b30d-7a28-4203-d1de-4948d3767031"
      },
      "source": [
        "#validation_generator.class_indices"
      ],
      "execution_count": null,
      "outputs": [
        {
          "output_type": "execute_result",
          "data": {
            "text/plain": [
              "{'cov19': 0, 'pneumonia': 1}"
            ]
          },
          "metadata": {
            "tags": []
          },
          "execution_count": 18
        }
      ]
    },
    {
      "cell_type": "code",
      "metadata": {
        "id": "MZreDnr0WkD5",
        "colab": {
          "base_uri": "https://localhost:8080/",
          "height": 34
        },
        "outputId": "cdee3827-dc63-429c-f694-c7a4b32e4278"
      },
      "source": [
        "#Image prediction\n",
        "\n",
        "import numpy as np\n",
        "from keras.preprocessing import image\n",
        "\n",
        "# predicting images\n",
        "#fn = 'cat-2083492_640.jpg'  # name of the image\n",
        "path='/content/drive/My Drive/SET-chest/TEST/pneumonia/PNEUMONIA(1).jpg'    # path to the image\n",
        "img = image.load_img(path, target_size=(224, 224)) # edit the target_size\n",
        "\n",
        "x=image.img_to_array(img)\n",
        "x=np.expand_dims(x, axis=0)\n",
        "images = np.vstack([x])\n",
        "\n",
        "classes = modeldil.predict(images) # edit the batch_size\n",
        "\n",
        "print(classes)"
      ],
      "execution_count": null,
      "outputs": [
        {
          "output_type": "stream",
          "text": [
            "[[1.]]\n"
          ],
          "name": "stdout"
        }
      ]
    },
    {
      "cell_type": "code",
      "metadata": {
        "id": "ALrlsgGSbG4c"
      },
      "source": [
        "class myCallback(tf.keras.callbacks.Callback):\n",
        "    def on_epoch_end(self, epoch, logs={}):\n",
        "        if(logs.get('accuracy')>0.97):\n",
        "            print(\"\\nReached 97% accuracy so cancelling training!\")\n",
        "            self.model.stop_training = True\n",
        "\n",
        "callbacks = myCallback()\n",
        "results = model.fit_generator(train_image_gen,epochs = 85,\n",
        "                             validation_data = test_image_gen,\n",
        "                             callbacks = [callbacks])\n",
        "\n",
        "# Let's now save our model to a file\n",
        "model.save('cell_image_classifier.h5')\n",
        "\n",
        "# Load the model\n",
        "model = tf.keras.models.load_model('cell_image_classifier.h5')\n",
        "\n",
        "model.evaluate_generator(test_image_gen)\n",
        "\n",
        "#Prediction on image\n",
        "pred = model.predict_generator(test_image_gen)\n",
        "\n",
        "predictions = pred > .5\n",
        "\n",
        "print(classification_report(test_image_gen.classes,predictions))\n",
        "confusion_matrix(test_image_gen.classes,predictions)"
      ],
      "execution_count": null,
      "outputs": []
    },
    {
      "cell_type": "code",
      "metadata": {
        "id": "c0AY0c_-Z7et",
        "colab": {
          "base_uri": "https://localhost:8080/",
          "height": 295
        },
        "outputId": "5a22501f-58b2-46c0-87f3-b21a2aa7afc1"
      },
      "source": [
        "#upppdated dilated cnn graph\n",
        "import matplotlib.pyplot as plt\n",
        "%matplotlib inline\n",
        "\n",
        "# listing data in graph\n",
        "#print(hist.history.keys())\n",
        "\n",
        "# summarize graph for accuracy\n",
        "#plt.plot(hist.history['accuracy'])\n",
        "plt.plot(histdil.history['val_accuracy'])\n",
        "plt.plot(histdil.history['accuracy'])\n",
        "#plt.plot(histcnn.history['val_accuracy'])\n",
        "#plt.plot(histdil.history['accuracy'])\n",
        "#plt.plot(histdil.history['val_accuracy'])\n",
        "plt.title('Dilated CNN Model accuracy')\n",
        "plt.ylabel('accuracy')\n",
        "plt.xlabel('epoch')\n",
        "plt.legend(['test', 'train'], loc='upper left')\n",
        "plt.show()"
      ],
      "execution_count": null,
      "outputs": [
        {
          "output_type": "display_data",
          "data": {
            "image/png": "[encoded data removed]",
            "text/plain": [
              "<Figure size 432x288 with 1 Axes>"
            ]
          },
          "metadata": {
            "tags": []
          }
        }
      ]
    },
    {
      "cell_type": "code",
      "metadata": {
        "id": "rXCEDJJblrE1",
        "colab": {
          "base_uri": "https://localhost:8080/",
          "height": 295
        },
        "outputId": "299480b2-848c-4e88-896b-eb79c321da91"
      },
      "source": [
        "#cnn graph\n",
        "import matplotlib.pyplot as plt\n",
        "%matplotlib inline\n",
        "\n",
        "# listing data in graph\n",
        "#print(hist.history.keys())\n",
        "\n",
        "# summarize graph for accuracy\n",
        "#plt.plot(hist.history['accuracy'])\n",
        "plt.plot(hist.history['val_accuracy'])\n",
        "plt.plot(hist.history['accuracy'])\n",
        "#plt.plot(histcnn.history['val_accuracy'])\n",
        "#plt.plot(histdil.history['accuracy'])\n",
        "#plt.plot(histdil.history['val_accuracy'])\n",
        "plt.title('CNN Model accuracy')\n",
        "plt.ylabel('accuracy')\n",
        "plt.xlabel('epoch')\n",
        "plt.legend(['test', 'train'], loc='upper left')\n",
        "plt.show()"
      ],
      "execution_count": null,
      "outputs": [
        {
          "output_type": "display_data",
          "data": {
            "image/png": "[encoded data removed]",
            "text/plain": [
              "<Figure size 432x288 with 1 Axes>"
            ]
          },
          "metadata": {
            "tags": []
          }
        }
      ]
    },
    {
      "cell_type": "code",
      "metadata": {
        "id": "3AhncTcS0agO",
        "colab": {
          "base_uri": "https://localhost:8080/",
          "height": 295
        },
        "outputId": "ff479daa-f949-46a9-8f42-454cbc9fb52a"
      },
      "source": [
        "#cnn graph\n",
        "import matplotlib.pyplot as plt\n",
        "%matplotlib inline\n",
        "\n",
        "# listing data in graph\n",
        "#print(hist.history.keys())\n",
        "\n",
        "# summarize graph for accuracy\n",
        "#plt.plot(hist.history['accuracy'])\n",
        "plt.plot(histdil.history['val_accuracy'])\n",
        "plt.plot(hist.history['val_accuracy'])\n",
        "#plt.plot(histcnn.history['val_accuracy'])\n",
        "#plt.plot(histdil.history['accuracy'])\n",
        "#plt.plot(histdil.history['val_accuracy'])\n",
        "plt.title('Dilated CNN VS CNN TEST accuracy')\n",
        "plt.ylabel('accuracy')\n",
        "plt.xlabel('epoch')\n",
        "plt.legend(['dilated', 'normal cnn'], loc='lower right')\n",
        "plt.show()"
      ],
      "execution_count": null,
      "outputs": [
        {
          "output_type": "display_data",
          "data": {
            "image/png": "[encoded data removed]",
            "text/plain": [
              "<Figure size 432x288 with 1 Axes>"
            ]
          },
          "metadata": {
            "tags": []
          }
        }
      ]
    },
    {
      "cell_type": "code",
      "metadata": {
        "id": "DkRHU26i0aUS",
        "colab": {
          "base_uri": "https://localhost:8080/",
          "height": 231
        },
        "outputId": "f47dc3ae-bd64-446a-ebb0-7efb018f6e35"
      },
      "source": [
        ""
      ],
      "execution_count": null,
      "outputs": [
        {
          "output_type": "error",
          "ename": "NameError",
          "evalue": "ignored",
          "traceback": [
            "\u001b[0;31m---------------------------------------------------------------------------\u001b[0m",
            "\u001b[0;31mNameError\u001b[0m                                 Traceback (most recent call last)",
            "\u001b[0;32m<ipython-input-1-c787aeb9de0a>\u001b[0m in \u001b[0;36m<module>\u001b[0;34m()\u001b[0m\n\u001b[1;32m      8\u001b[0m \u001b[0;31m# summarize graph for accuracy\u001b[0m\u001b[0;34m\u001b[0m\u001b[0;34m\u001b[0m\u001b[0;34m\u001b[0m\u001b[0m\n\u001b[1;32m      9\u001b[0m \u001b[0;31m#plt.plot(hist.history['accuracy'])\u001b[0m\u001b[0;34m\u001b[0m\u001b[0;34m\u001b[0m\u001b[0;34m\u001b[0m\u001b[0m\n\u001b[0;32m---> 10\u001b[0;31m \u001b[0mplt\u001b[0m\u001b[0;34m.\u001b[0m\u001b[0mplot\u001b[0m\u001b[0;34m(\u001b[0m\u001b[0mhistdil\u001b[0m\u001b[0;34m.\u001b[0m\u001b[0mhistory\u001b[0m\u001b[0;34m[\u001b[0m\u001b[0;34m'val_accuracy'\u001b[0m\u001b[0;34m]\u001b[0m\u001b[0;34m)\u001b[0m\u001b[0;34m\u001b[0m\u001b[0;34m\u001b[0m\u001b[0m\n\u001b[0m\u001b[1;32m     11\u001b[0m \u001b[0mplt\u001b[0m\u001b[0;34m.\u001b[0m\u001b[0mplot\u001b[0m\u001b[0;34m(\u001b[0m\u001b[0mhist\u001b[0m\u001b[0;34m.\u001b[0m\u001b[0mhistory\u001b[0m\u001b[0;34m[\u001b[0m\u001b[0;34m'val_accuracy'\u001b[0m\u001b[0;34m]\u001b[0m\u001b[0;34m)\u001b[0m\u001b[0;34m\u001b[0m\u001b[0;34m\u001b[0m\u001b[0m\n\u001b[1;32m     12\u001b[0m \u001b[0;31m#plt.plot(histcnn.history['val_accuracy'])\u001b[0m\u001b[0;34m\u001b[0m\u001b[0;34m\u001b[0m\u001b[0;34m\u001b[0m\u001b[0m\n",
            "\u001b[0;31mNameError\u001b[0m: name 'histdil' is not defined"
          ]
        }
      ]
    },
    {
      "cell_type": "code",
      "metadata": {
        "id": "Q_KX0wxxc_dM",
        "colab": {
          "base_uri": "https://localhost:8080/",
          "height": 295
        },
        "outputId": "3ebd309e-d56b-4468-9b20-d2149a0ff39a"
      },
      "source": [
        "#updated\n",
        "import matplotlib.pyplot as plt\n",
        "%matplotlib inline\n",
        "\n",
        "# listing data in graph\n",
        "#print(hist.history.keys())\n",
        "\n",
        "# summarize graph for accuracy\n",
        "#plt.plot(hist.history['accuracy'])\n",
        "plt.plot(histdil.history['val_accuracy'])\n",
        "plt.plot(hist.history['val_accuracy'])\n",
        "#plt.plot(histcnn.history['val_accuracy'])\n",
        "#plt.plot(histdil.history['accuracy'])\n",
        "#plt.plot(histdil.history['val_accuracy'])\n",
        "plt.title('Dilated CNN VS CNN TEST accuracy')\n",
        "plt.ylabel('accuracy')\n",
        "plt.xlabel('epoch')\n",
        "plt.legend(['dilated', 'normal cnn'], loc='lower right')\n",
        "plt.show()"
      ],
      "execution_count": null,
      "outputs": [
        {
          "output_type": "display_data",
          "data": {
            "image/png": "[encoded data removed]",
            "text/plain": [
              "<Figure size 432x288 with 1 Axes>"
            ]
          },
          "metadata": {
            "tags": []
          }
        }
      ]
    },
    {
      "cell_type": "code",
      "metadata": {
        "id": "-poTLhlDj8x_"
      },
      "source": [
        "import numpy as np\n",
        "import tensorflow as tf\n",
        "from tensorflow import keras\n",
        "\n",
        "# Display\n",
        "from IPython.display import Image\n",
        "import matplotlib.pyplot as plt\n",
        "import matplotlib.cm as cm"
      ],
      "execution_count": null,
      "outputs": []
    },
    {
      "cell_type": "code",
      "metadata": {
        "id": "w7q_eso7j9ow"
      },
      "source": [
        "model_builder = keras.applications.xception.Xception\n",
        "img_size = (224, 224)\n",
        "preprocess_input = keras.applications.xception.preprocess_input\n",
        "decode_predictions = keras.applications.xception.decode_predictions\n",
        "\n",
        "last_conv_layer_name = \"block14_sepconv2_act\"\n",
        "classifier_layer_names = [\n",
        "    \"avg_pool\",\n",
        "    \"predictions\",\n",
        "]\n",
        "\n",
        "# The local path to our target image\n",
        "img_path = keras.utils.get_file(\"x-ray-covid-19-header-1920x1080-07267872~7.jpg\",\"https://static.healthcare.siemens.com/siemens_hwem-hwem_ssxa_websites-context-root/wcm/idc/groups/public/@global/documents/image/mda5/nzgw/~edisp/x-ray-covid-19-header-1920x1080-07267872/~renditions/x-ray-covid-19-header-1920x1080-07267872~7.jpg\")\n",
        "\n",
        "display(Image(img_path))"
      ],
      "execution_count": null,
      "outputs": []
    },
    {
      "cell_type": "code",
      "metadata": {
        "id": "W0i7tvAotowI",
        "colab": {
          "base_uri": "https://localhost:8080/",
          "height": 231
        },
        "outputId": "be260642-bb7a-4e87-ca94-8aee18c2cc1b"
      },
      "source": [
        "def get_img_array(img_path, size):\n",
        "    # `img` is a PIL image of size 299x299\n",
        "    img = keras.preprocessing.image.load_img(img_path, target_size=size)\n",
        "    # `array` is a float32 Numpy array of shape (299, 299, 3)\n",
        "    array = keras.preprocessing.image.img_to_array(img)\n",
        "    # We add a dimension to transform our array into a \"batch\"\n",
        "    # of size (1, 299, 299, 3)\n",
        "    array = np.expand_dims(array, axis=0)\n",
        "    return array\n",
        "\n",
        "\n",
        "def make_gradcam_heatmap(\n",
        "    img_array, model, last_conv_layer_name, classifier_layer_names\n",
        "):\n",
        "    # First, we create a model that maps the input image to the activations\n",
        "    # of the last conv layer\n",
        "    last_conv_layer = model.get_layer(last_conv_layer_name)\n",
        "    last_conv_layer_model = keras.Model(model.inputs, last_conv_layer.output)\n",
        "\n",
        "    # Second, we create a model that maps the activations of the last conv\n",
        "    # layer to the final class predictions\n",
        "    classifier_input = keras.Input(shape=last_conv_layer.output.shape[1:])\n",
        "    x = classifier_input\n",
        "    for layer_name in classifier_layer_names:\n",
        "        x = model.get_layer(layer_name)(x)\n",
        "    classifier_model = keras.Model(classifier_input, x)\n",
        "\n",
        "    # Then, we compute the gradient of the top predicted class for our input image\n",
        "    # with respect to the activations of the last conv layer\n",
        "    with tf.GradientTape() as tape:\n",
        "        # Compute activations of the last conv layer and make the tape watch it\n",
        "        last_conv_layer_output = last_conv_layer_model(img_array)\n",
        "        tape.watch(last_conv_layer_output)\n",
        "        # Compute class predictions\n",
        "        preds = classifier_model(last_conv_layer_output)\n",
        "        top_pred_index = tf.argmax(preds[0])\n",
        "        top_class_channel = preds[:, top_pred_index]\n",
        "\n",
        "    # This is the gradient of the top predicted class with regard to\n",
        "    # the output feature map of the last conv layer\n",
        "    grads = tape.gradient(top_class_channel, last_conv_layer_output)\n",
        "\n",
        "    # This is a vector where each entry is the mean intensity of the gradient\n",
        "    # over a specific feature map channel\n",
        "    pooled_grads = tf.reduce_mean(grads, axis=(0, 1, 2))\n",
        "\n",
        "    # We multiply each channel in the feature map array\n",
        "    # by \"how important this channel is\" with regard to the top predicted class\n",
        "    last_conv_layer_output = last_conv_layer_output.numpy()[0]\n",
        "    pooled_grads = pooled_grads.numpy()\n",
        "    for i in range(pooled_grads.shape[-1]):\n",
        "        last_conv_layer_output[:, :, i] *= pooled_grads[i]\n",
        "\n",
        "    # The channel-wise mean of the resulting feature map\n",
        "    # is our heatmap of class activation\n",
        "    heatmap = np.mean(last_conv_layer_output, axis=-1)\n",
        "\n",
        "    # For visualization purpose, we will also normalize the heatmap between 0 & 1\n",
        "    heatmap = np.maximum(heatmap, 0) / np.max(heatmap)\n",
        "    return heatmap\n",
        "\n",
        "    # Prepare image\n",
        "#img_path = '/content/drive/My Drive/SET-chest/TEST/cov19/E63574A7-4188-4C8D-8D17-9D67A18A1AFA.jpeg'\n",
        "img_array = preprocess_input(get_img_array(img_path, target_size=224))\n",
        "\n",
        "# Make model\n",
        "model = model_builder(weights=\"imagenet\")\n",
        "\n",
        "# Print what the top predicted class is\n",
        "preds = model.predict(img_array)\n",
        "print(\"Predicted:\", decode_predictions(preds, top=1)[0])\n",
        "\n",
        "# Generate class activation heatmap\n",
        "heatmap = make_gradcam_heatmap(\n",
        "    img_array, model, last_conv_layer_name, classifier_layer_names\n",
        ")\n",
        "\n",
        "# Display heatmap\n",
        "plt.matshow(heatmap)\n",
        "plt.show()"
      ],
      "execution_count": null,
      "outputs": [
        {
          "output_type": "error",
          "ename": "TypeError",
          "evalue": "ignored",
          "traceback": [
            "\u001b[0;31m---------------------------------------------------------------------------\u001b[0m",
            "\u001b[0;31mTypeError\u001b[0m                                 Traceback (most recent call last)",
            "\u001b[0;32m<ipython-input-28-ea58e412ad0c>\u001b[0m in \u001b[0;36m<module>\u001b[0;34m()\u001b[0m\n\u001b[1;32m     62\u001b[0m     \u001b[0;31m# Prepare image\u001b[0m\u001b[0;34m\u001b[0m\u001b[0;34m\u001b[0m\u001b[0;34m\u001b[0m\u001b[0m\n\u001b[1;32m     63\u001b[0m \u001b[0;31m#img_path = '/content/drive/My Drive/SET-chest/TEST/cov19/E63574A7-4188-4C8D-8D17-9D67A18A1AFA.jpeg'\u001b[0m\u001b[0;34m\u001b[0m\u001b[0;34m\u001b[0m\u001b[0;34m\u001b[0m\u001b[0m\n\u001b[0;32m---> 64\u001b[0;31m \u001b[0mimg_array\u001b[0m \u001b[0;34m=\u001b[0m \u001b[0mpreprocess_input\u001b[0m\u001b[0;34m(\u001b[0m\u001b[0mget_img_array\u001b[0m\u001b[0;34m(\u001b[0m\u001b[0mimg_path\u001b[0m\u001b[0;34m,\u001b[0m \u001b[0mtarget_size\u001b[0m\u001b[0;34m=\u001b[0m\u001b[0;36m224\u001b[0m\u001b[0;34m)\u001b[0m\u001b[0;34m)\u001b[0m\u001b[0;34m\u001b[0m\u001b[0;34m\u001b[0m\u001b[0m\n\u001b[0m\u001b[1;32m     65\u001b[0m \u001b[0;34m\u001b[0m\u001b[0m\n\u001b[1;32m     66\u001b[0m \u001b[0;31m# Make model\u001b[0m\u001b[0;34m\u001b[0m\u001b[0;34m\u001b[0m\u001b[0;34m\u001b[0m\u001b[0m\n",
            "\u001b[0;31mTypeError\u001b[0m: get_img_array() got an unexpected keyword argument 'target_size'"
          ]
        }
      ]
    },
    {
      "cell_type": "code",
      "metadata": {
        "id": "LlTTJkJdjOfS",
        "colab": {
          "base_uri": "https://localhost:8080/",
          "height": 231
        },
        "outputId": "92c47c4e-866c-41da-e9c0-27fa4b55885a"
      },
      "source": [
        ""
      ],
      "execution_count": null,
      "outputs": [
        {
          "output_type": "error",
          "ename": "TypeError",
          "evalue": "ignored",
          "traceback": [
            "\u001b[0;31m---------------------------------------------------------------------------\u001b[0m",
            "\u001b[0;31mTypeError\u001b[0m                                 Traceback (most recent call last)",
            "\u001b[0;32m<ipython-input-26-4bdbf5d3e228>\u001b[0m in \u001b[0;36m<module>\u001b[0;34m()\u001b[0m\n\u001b[1;32m      1\u001b[0m \u001b[0;31m# Prepare image\u001b[0m\u001b[0;34m\u001b[0m\u001b[0;34m\u001b[0m\u001b[0;34m\u001b[0m\u001b[0m\n\u001b[1;32m      2\u001b[0m \u001b[0;31m#img_path = '/content/drive/My Drive/SET-chest/TEST/cov19/E63574A7-4188-4C8D-8D17-9D67A18A1AFA.jpeg'\u001b[0m\u001b[0;34m\u001b[0m\u001b[0;34m\u001b[0m\u001b[0;34m\u001b[0m\u001b[0m\n\u001b[0;32m----> 3\u001b[0;31m \u001b[0mimg_array\u001b[0m \u001b[0;34m=\u001b[0m \u001b[0mpreprocess_input\u001b[0m\u001b[0;34m(\u001b[0m\u001b[0mget_img_array\u001b[0m\u001b[0;34m(\u001b[0m\u001b[0mimg_path\u001b[0m\u001b[0;34m,\u001b[0m \u001b[0mtarget_size\u001b[0m\u001b[0;34m=\u001b[0m\u001b[0;34m(\u001b[0m\u001b[0;36m224\u001b[0m\u001b[0;34m,\u001b[0m\u001b[0;36m224\u001b[0m\u001b[0;34m)\u001b[0m\u001b[0;34m)\u001b[0m\u001b[0;34m)\u001b[0m\u001b[0;34m\u001b[0m\u001b[0;34m\u001b[0m\u001b[0m\n\u001b[0m\u001b[1;32m      4\u001b[0m \u001b[0;34m\u001b[0m\u001b[0m\n\u001b[1;32m      5\u001b[0m \u001b[0;31m# Make model\u001b[0m\u001b[0;34m\u001b[0m\u001b[0;34m\u001b[0m\u001b[0;34m\u001b[0m\u001b[0m\n",
            "\u001b[0;31mTypeError\u001b[0m: get_img_array() got an unexpected keyword argument 'target_size'"
          ]
        }
      ]
    },
    {
      "cell_type": "code",
      "metadata": {
        "id": "wsjBN5E8js4G"
      },
      "source": [
        ""
      ],
      "execution_count": null,
      "outputs": []
    }
  ]
}